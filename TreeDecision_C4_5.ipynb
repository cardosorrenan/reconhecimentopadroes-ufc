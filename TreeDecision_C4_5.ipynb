{
  "nbformat": 4,
  "nbformat_minor": 0,
  "metadata": {
    "colab": {
      "name": "TreeDecision_C4.5.ipynb",
      "provenance": [],
      "collapsed_sections": []
    },
    "kernelspec": {
      "name": "python3",
      "display_name": "Python 3"
    }
  },
  "cells": [
    {
      "cell_type": "markdown",
      "metadata": {
        "id": "0wXeY8tvvK8u",
        "colab_type": "text"
      },
      "source": [
        "# **Trabalho 2 - Reconhecimento de Padrões**\n",
        "### Árvore de Decisão\n",
        "##### Renan Henrique Cardoso - 379013"
      ]
    },
    {
      "cell_type": "code",
      "metadata": {
        "id": "Z-eAwF2xyYPZ",
        "colab_type": "code",
        "colab": {
          "base_uri": "https://localhost:8080/",
          "height": 71
        },
        "outputId": "c9d0aee3-62d0-46a5-969f-cfe7df12a920"
      },
      "source": [
        "import seaborn as sns\n",
        "import matplotlib.pyplot as plt\n",
        "import numpy as np\n",
        "import itertools\n",
        "import math\n",
        "import json\n",
        "import pandas as pd\n",
        "pd.options.mode.chained_assignment = None  "
      ],
      "execution_count": 1,
      "outputs": [
        {
          "output_type": "stream",
          "text": [
            "/usr/local/lib/python3.6/dist-packages/statsmodels/tools/_testing.py:19: FutureWarning: pandas.util.testing is deprecated. Use the functions in the public API at pandas.testing instead.\n",
            "  import pandas.util.testing as tm\n"
          ],
          "name": "stderr"
        }
      ]
    },
    {
      "cell_type": "markdown",
      "metadata": {
        "id": "b9glgndMgjgR",
        "colab_type": "text"
      },
      "source": [
        "### **Upload do csv**"
      ]
    },
    {
      "cell_type": "code",
      "metadata": {
        "id": "UOwMOT0iqAh2",
        "colab_type": "code",
        "colab": {}
      },
      "source": [
        "wines = pd.read_csv(\"https://raw.githubusercontent.com/cardosorrenan/reconhecimentopadroes-ufc/master/wine.csv\")\n",
        "wines.columns = ['Class', 'Alcohol', 'MalicAcid', 'Gray', 'Alcalinity', \n",
        "                  'Magnesium', 'TotalsPhenols', 'Flavanoids', 'PhenolsNonFlav', \n",
        "                  'Proanthocy', 'IntensityColor', 'Hue', 'OD', 'Proline']\n",
        "\n",
        "wines = wines.sample(frac=1)          # Embaralha\n",
        "wines = wines.reset_index(drop=True)  # Limpa indexes\n",
        "n_fold = 10                           # Define quantidade de validações"
      ],
      "execution_count": 2,
      "outputs": []
    },
    {
      "cell_type": "markdown",
      "metadata": {
        "id": "HrDWRQl5hMVJ",
        "colab_type": "text"
      },
      "source": [
        "### **Rotulação dos sinais (delimitação dos folds)**"
      ]
    },
    {
      "cell_type": "code",
      "metadata": {
        "id": "iS8tRsRghLHB",
        "colab_type": "code",
        "colab": {}
      },
      "source": [
        "wines['fold'] = pd.DataFrame(data=[-1]*wines.shape[0])  # Todas as linhas da coluna 'fold' recebe -1, pois ainda não pertencem a nenhum fold\n",
        "samples = math.floor(wines.shape[0] / n_fold)           # Quantidade de amostras em cada fold\n",
        "for fold in list(range(0, n_fold)):                     # Como K=10, cada linha pertencerá a um fold [0, 1, ..., 9] \n",
        "  base = fold*samples\n",
        "  top = fold*samples + samples - 1\n",
        "  wines.loc[base:top, 'fold'] = fold     # 0-16 será 0-Fold / 17-33 será 1-Fold / ... / 153-169 será 10-Fold\n",
        "wines = wines.query('fold != -1')        # Perda de 7 amostras "
      ],
      "execution_count": 3,
      "outputs": []
    },
    {
      "cell_type": "markdown",
      "metadata": {
        "id": "LTwexAzGhXkU",
        "colab_type": "text"
      },
      "source": [
        "### **Funções construídas**"
      ]
    },
    {
      "cell_type": "code",
      "metadata": {
        "id": "BhVLVXsdpakp",
        "colab_type": "code",
        "colab": {}
      },
      "source": [
        "def log(x):\n",
        "  return 0 if (x == 0) else math.log(x)\n",
        "\n",
        "\n",
        "# Todas as amostras de um determinado atributo são dispostas ordenadamente\n",
        "# em um vetor para extração das extremidades de cada classe (limiares)\n",
        "def getThresholds(df, attr):\n",
        "  thresholds = []\n",
        "  classes = df['Class'].unique().tolist()\n",
        "  for item in classes:\n",
        "    thresholds.append(df.query(f'Class == {item}')[f'{attr}'].iloc[0])\n",
        "    thresholds.append(df.query(f'Class == {item}')[f'{attr}'].iloc[-1])\n",
        "  thresholds.sort()\n",
        "  thresholds = thresholds[1:-1]\n",
        "  return thresholds\n",
        "\n",
        "\n",
        "# Retorna a entropia média do conjunto de dados\n",
        "def getEntropy(df):\n",
        "  n_samples = df.shape[0]\n",
        "  entropy = 0\n",
        "  classes = df['Class'].unique().tolist()\n",
        "  for item in classes:\n",
        "    prob = df.query(f'Class == {item}').shape[0]/n_samples\n",
        "    entropy = entropy - prob * log(prob)\n",
        "  return entropy \n",
        "\n",
        "\n",
        "# Corta o conjunto de dados dado um atributo e um valor\n",
        "def splitDataframe(df, attr, value):\n",
        "  part1 = df.query(f'{attr} <= {value}')\n",
        "  part2 = df.query(f'{attr} > {value}')\n",
        "  return part1, part2\n",
        "\n",
        "\n",
        "# Cada atributo consegue gerar 4 ou 2 limiares (3 ou 2 classes, respectivamente), logo,\n",
        "# é calculado a entropia de cada um e selecionado o que teve melhor resultado (menor entropia),\n",
        "# posteriormente, é disputado o melhor limiar entre todos os atributos, selecionando assim o \n",
        "# melhor atributo para ser realizado o corte.\n",
        "def treeDecision(wines):\n",
        "  best_entropy_attrs = pd.DataFrame(columns=['attribute', 'split_point', 'entropy'])\n",
        "  n_wines = wines.shape[0]\n",
        "  \n",
        "  for attribute in wines.columns[1:]: \n",
        "    df_class_attr = wines[['Class',f'{attribute}']]\n",
        "    df_class_attr = df_class_attr.sort_values(['Class', f'{attribute}'], ascending=[True, True])\n",
        "    thresholds = getThresholds(df_class_attr, attribute)\n",
        "    for th in thresholds:\n",
        "      partition1, partition2 = splitDataframe(df_class_attr, attribute, th)\n",
        "      entropy_part1 = getEntropy(partition1)\n",
        "      entropy_part2 = getEntropy(partition2)\n",
        "      entropy_threshold = (partition1.shape[0]/n_wines) * entropy_part1 + (partition2.shape[0]/n_wines) * entropy_part2\n",
        "      row = { 'attribute': attribute, 'split_point': th, 'entropy': entropy_threshold }\n",
        "      best_entropy_attrs = best_entropy_attrs.append(row, ignore_index=True)\n",
        "\n",
        "  best_entropy_attr = best_entropy_attrs.sort_values('entropy').groupby('attribute').first()\n",
        "  best_entropy = best_entropy_attr.sort_values('entropy').iloc[0]\n",
        "  partition1, partition2 = splitDataframe(wines, best_entropy.name, best_entropy.split_point)\n",
        "  return partition1, partition2, best_entropy\n",
        "\n",
        "\n",
        "# Constrói o modelo Árvore de Decisão do tipo dicionário (dict), onde a \n",
        "# cada corte é criado 3 atributos: o ponto de corte, o atributo escolhido\n",
        "# para realizar o corte e os dois ramos gerados. Esse procedimento é \n",
        "# realizado recursivamente até encontrar o fundo, ou seja, onde a entropia seja 0.\n",
        "# Quando encontrado, a árvore ganhará somente o atributo 'Classe'.\n",
        "#\n",
        "#    Arvore = { \n",
        "#       attribute: 'atributo selecionado para corte',\n",
        "#       split_point: 'ponto de corte',\n",
        "#       branchs: [\n",
        "#         { Arvore... }, \n",
        "#         { Arvore... }, \n",
        "#       ]\n",
        "#     }\n",
        "#\n",
        "#\n",
        "def build_tree(dataset):\n",
        "  tree = {}\n",
        "  if (getEntropy(dataset) != 0):\n",
        "    partition1, partition2, result = treeDecision(dataset)\n",
        "    del partition1[result.name]\n",
        "    del partition2[result.name]\n",
        "    tree['attribute'] = result.name\n",
        "    tree['split_point'] = result.split_point\n",
        "    tree['branchs'] = [ build_tree(partition1), build_tree(partition2) ]\n",
        "  else:\n",
        "    tree['Class'] = dataset['Class'].unique().tolist()[0]\n",
        "  return tree\n",
        "\n",
        "\n",
        "# Aqui a árvore será testada, ou seja, será realizado os devidos cortes antes\n",
        "# calculados e criado um dataframe com as amostras então devidamente classificadas.\n",
        "def testing_tree(tree, dataset):\n",
        "  result = pd.DataFrame(columns=['Class'])\n",
        "  if not (u'Class' in tree):\n",
        "    partition1, partition2 = splitDataframe(dataset, tree['attribute'], tree['split_point'])\n",
        "    del partition1[tree['attribute']]\n",
        "    del partition2[tree['attribute']]\n",
        "    sub_tree1 = tree['branchs'][0]\n",
        "    sub_tree2 = tree['branchs'][1]\n",
        "    result = result.append(testing_tree(sub_tree1, partition1))\n",
        "    result = result.append(testing_tree(sub_tree2, partition2))\n",
        "  else:\n",
        "    if dataset.shape[0] > 0:\n",
        "      df = pd.DataFrame(data=dataset, columns=['Class'])\n",
        "      df['Class'] = tree['Class']\n",
        "      return df  \n",
        "  return result\n",
        "\n",
        "\n",
        "def compare(x, y):\n",
        "  x = x.sort_index()\n",
        "  y = y.sort_index()\n",
        "  truth_array = np.equal(np.array(x), np.array(y))\n",
        "  return np.sum(truth_array)/len(truth_array) * 100"
      ],
      "execution_count": 4,
      "outputs": []
    },
    {
      "cell_type": "markdown",
      "metadata": {
        "id": "2hVUfnMthy2Z",
        "colab_type": "text"
      },
      "source": [
        "### **Loop Principal**"
      ]
    },
    {
      "cell_type": "code",
      "metadata": {
        "id": "2h4xpl0Ccoki",
        "colab_type": "code",
        "colab": {
          "base_uri": "https://localhost:8080/",
          "height": 289
        },
        "outputId": "256ca6f3-2023-4051-e662-03ed5177becf"
      },
      "source": [
        "%%time\n",
        "\n",
        "acc_total = 0\n",
        "\n",
        "for validation in list(range(0, n_fold)):\n",
        "  training_data = wines.query(f'fold != {validation}')  # Dados de treinamento\n",
        "  testing_data = wines.query(f'fold == {validation}')   # Dados de teste\n",
        "  classes = testing_data['Class']                       # Classes para posterior comparação\n",
        "  del testing_data['Class']\n",
        "  model = build_tree(training_data)                     # Constrói árvore recursiva\n",
        "  predict_classes = testing_tree(model, testing_data)   # Extração das classes\n",
        "  accuracy = compare(classes, predict_classes['Class'])  # Compara com as classes que realmente elas pertencem e retorna a acurácia\n",
        "  acc_total += accuracy\n",
        "  print(f'{validation}-Fold: Accuracy {round(accuracy, 2)}%')\n",
        "\n",
        "print(f'\\nTotal: {round(acc_total/n_fold, 2)}% \\n\\n')"
      ],
      "execution_count": 5,
      "outputs": [
        {
          "output_type": "stream",
          "text": [
            "0-Fold: Accuracy 94.12%\n",
            "1-Fold: Accuracy 94.12%\n",
            "2-Fold: Accuracy 88.24%\n",
            "3-Fold: Accuracy 88.24%\n",
            "4-Fold: Accuracy 82.35%\n",
            "5-Fold: Accuracy 100.0%\n",
            "6-Fold: Accuracy 94.12%\n",
            "7-Fold: Accuracy 82.35%\n",
            "8-Fold: Accuracy 88.24%\n",
            "9-Fold: Accuracy 94.12%\n",
            "\n",
            "Total: 90.59% \n",
            "\n",
            "\n",
            "CPU times: user 53.7 s, sys: 213 ms, total: 53.9 s\n",
            "Wall time: 53.7 s\n"
          ],
          "name": "stdout"
        }
      ]
    },
    {
      "cell_type": "markdown",
      "metadata": {
        "id": "O_-9CP8aukty",
        "colab_type": "text"
      },
      "source": [
        "## **Alguns insights do algoritmo (última validação 9-fold)**"
      ]
    },
    {
      "cell_type": "markdown",
      "metadata": {
        "id": "oAl_gbs2uQDU",
        "colab_type": "text"
      },
      "source": [
        "### **Tempo gasto na construção da árvore:**"
      ]
    },
    {
      "cell_type": "code",
      "metadata": {
        "id": "83jU8aPEuDV5",
        "colab_type": "code",
        "colab": {
          "base_uri": "https://localhost:8080/",
          "height": 51
        },
        "outputId": "3840cb24-6dea-4044-d131-b4d32c2463d6"
      },
      "source": [
        "%%time\n",
        "model = build_tree(training_data)  "
      ],
      "execution_count": 6,
      "outputs": [
        {
          "output_type": "stream",
          "text": [
            "CPU times: user 5.04 s, sys: 12 ms, total: 5.05 s\n",
            "Wall time: 5.05 s\n"
          ],
          "name": "stdout"
        }
      ]
    },
    {
      "cell_type": "markdown",
      "metadata": {
        "id": "1ougyiDEuVnm",
        "colab_type": "text"
      },
      "source": [
        "### **Tempo gasto para classificação:**"
      ]
    },
    {
      "cell_type": "code",
      "metadata": {
        "id": "UpQ2xSWsuD8e",
        "colab_type": "code",
        "colab": {
          "base_uri": "https://localhost:8080/",
          "height": 51
        },
        "outputId": "f9a5dbfe-7872-4aa2-dae1-6ceb49b897c4"
      },
      "source": [
        "%%time\n",
        "predict_classes = testing_tree(model, testing_data) "
      ],
      "execution_count": 7,
      "outputs": [
        {
          "output_type": "stream",
          "text": [
            "CPU times: user 107 ms, sys: 3 µs, total: 107 ms\n",
            "Wall time: 109 ms\n"
          ],
          "name": "stdout"
        }
      ]
    },
    {
      "cell_type": "markdown",
      "metadata": {
        "id": "VgimL02USiZp",
        "colab_type": "text"
      },
      "source": [
        "### **Estrutura da árvore:**\n",
        "     \n",
        "     Arvore = { \n",
        "       attribute: 'atributo selecionado para corte',\n",
        "       split_point: 'ponto de corte',\n",
        "       branchs: [\n",
        "         { Arvore... }, \n",
        "         { Arvore... }, \n",
        "       ]\n",
        "     }\n",
        "\n",
        "     Quando houver o atributo 'Classe' no objeto Árvore, significa que chegamos a uma folha (amostras podem ser classificadas)"
      ]
    },
    {
      "cell_type": "code",
      "metadata": {
        "id": "3B7sAlBBRjj5",
        "colab_type": "code",
        "colab": {
          "base_uri": "https://localhost:8080/",
          "height": 1000
        },
        "outputId": "5d7106e2-8aa0-4d2f-f28e-8f642c98de47"
      },
      "source": [
        "print(json.dumps(model, indent=2))"
      ],
      "execution_count": 8,
      "outputs": [
        {
          "output_type": "stream",
          "text": [
            "{\n",
            "  \"attribute\": \"OD\",\n",
            "  \"split_point\": 2.11,\n",
            "  \"branchs\": [\n",
            "    {\n",
            "      \"attribute\": \"Hue\",\n",
            "      \"split_point\": 0.96,\n",
            "      \"branchs\": [\n",
            "        {\n",
            "          \"attribute\": \"IntensityColor\",\n",
            "          \"split_point\": 3.05,\n",
            "          \"branchs\": [\n",
            "            {\n",
            "              \"Class\": 2\n",
            "            },\n",
            "            {\n",
            "              \"Class\": 3\n",
            "            }\n",
            "          ]\n",
            "        },\n",
            "        {\n",
            "          \"Class\": 2\n",
            "        }\n",
            "      ]\n",
            "    },\n",
            "    {\n",
            "      \"attribute\": \"Alcohol\",\n",
            "      \"split_point\": 12.85,\n",
            "      \"branchs\": [\n",
            "        {\n",
            "          \"attribute\": \"Proline\",\n",
            "          \"split_point\": 937.0,\n",
            "          \"branchs\": [\n",
            "            {\n",
            "              \"Class\": 2\n",
            "            },\n",
            "            {\n",
            "              \"Class\": 1\n",
            "            }\n",
            "          ]\n",
            "        },\n",
            "        {\n",
            "          \"attribute\": \"Proline\",\n",
            "          \"split_point\": 680.0,\n",
            "          \"branchs\": [\n",
            "            {\n",
            "              \"attribute\": \"Magnesium\",\n",
            "              \"split_point\": 94.0,\n",
            "              \"branchs\": [\n",
            "                {\n",
            "                  \"Class\": 2\n",
            "                },\n",
            "                {\n",
            "                  \"Class\": 1\n",
            "                }\n",
            "              ]\n",
            "            },\n",
            "            {\n",
            "              \"attribute\": \"Alcalinity\",\n",
            "              \"split_point\": 25.0,\n",
            "              \"branchs\": [\n",
            "                {\n",
            "                  \"Class\": 1\n",
            "                },\n",
            "                {\n",
            "                  \"Class\": 2\n",
            "                }\n",
            "              ]\n",
            "            }\n",
            "          ]\n",
            "        }\n",
            "      ]\n",
            "    }\n",
            "  ]\n",
            "}\n"
          ],
          "name": "stdout"
        }
      ]
    }
  ]
}