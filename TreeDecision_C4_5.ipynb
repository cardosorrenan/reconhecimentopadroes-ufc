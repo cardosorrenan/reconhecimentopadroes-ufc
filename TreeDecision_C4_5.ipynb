{
  "nbformat": 4,
  "nbformat_minor": 0,
  "metadata": {
    "colab": {
      "name": "TreeDecision_C4.5.ipynb",
      "provenance": [],
      "collapsed_sections": [],
      "toc_visible": true
    },
    "kernelspec": {
      "name": "python3",
      "display_name": "Python 3"
    }
  },
  "cells": [
    {
      "cell_type": "markdown",
      "metadata": {
        "id": "0wXeY8tvvK8u",
        "colab_type": "text"
      },
      "source": [
        "# **Trabalho 2 - Reconhecimento de Padrões**\n",
        "### Árvore de Decisão\n",
        "##### Renan Henrique Cardoso - 379013"
      ]
    },
    {
      "cell_type": "code",
      "metadata": {
        "id": "Z-eAwF2xyYPZ",
        "colab_type": "code",
        "colab": {
          "base_uri": "https://localhost:8080/",
          "height": 71
        },
        "outputId": "a8c1e704-961e-45f9-b1b5-afdb88e18538"
      },
      "source": [
        "import pandas as pd                        # Utilizado para converter o .mat e trabalhar também com dataframes\n",
        "import seaborn as sns                      # Plotagem\n",
        "import matplotlib.pyplot as plt            # Plotagem\n",
        "import itertools\n",
        "import math\n",
        "pd.options.mode.chained_assignment = None  "
      ],
      "execution_count": 1,
      "outputs": [
        {
          "output_type": "stream",
          "text": [
            "/usr/local/lib/python3.6/dist-packages/statsmodels/tools/_testing.py:19: FutureWarning: pandas.util.testing is deprecated. Use the functions in the public API at pandas.testing instead.\n",
            "  import pandas.util.testing as tm\n"
          ],
          "name": "stderr"
        }
      ]
    },
    {
      "cell_type": "code",
      "metadata": {
        "id": "roN3wqPTxshu",
        "colab_type": "code",
        "colab": {
          "base_uri": "https://localhost:8080/",
          "height": 224
        },
        "outputId": "5f324c28-1161-421d-da5f-b9ab9f634e19"
      },
      "source": [
        "wines = pd.read_csv(\"https://raw.githubusercontent.com/cardosorrenan/reconhecimentopadroes-ufc/master/wine.csv\")\n",
        "wines.columns = ['Class', 'Alcohol', 'Acid', 'Ash', 'Alcalinity', \n",
        "                  'Magnesium', 'TotPhenols', 'Flavanoids', 'NonflavPhenols', \n",
        "                  'Proanth', 'ColIntensity', 'Hue', 'OD', 'Proline']\n",
        "wines.head()"
      ],
      "execution_count": 2,
      "outputs": [
        {
          "output_type": "execute_result",
          "data": {
            "text/html": [
              "<div>\n",
              "<style scoped>\n",
              "    .dataframe tbody tr th:only-of-type {\n",
              "        vertical-align: middle;\n",
              "    }\n",
              "\n",
              "    .dataframe tbody tr th {\n",
              "        vertical-align: top;\n",
              "    }\n",
              "\n",
              "    .dataframe thead th {\n",
              "        text-align: right;\n",
              "    }\n",
              "</style>\n",
              "<table border=\"1\" class=\"dataframe\">\n",
              "  <thead>\n",
              "    <tr style=\"text-align: right;\">\n",
              "      <th></th>\n",
              "      <th>Class</th>\n",
              "      <th>Alcohol</th>\n",
              "      <th>Acid</th>\n",
              "      <th>Ash</th>\n",
              "      <th>Alcalinity</th>\n",
              "      <th>Magnesium</th>\n",
              "      <th>TotPhenols</th>\n",
              "      <th>Flavanoids</th>\n",
              "      <th>NonflavPhenols</th>\n",
              "      <th>Proanth</th>\n",
              "      <th>ColIntensity</th>\n",
              "      <th>Hue</th>\n",
              "      <th>OD</th>\n",
              "      <th>Proline</th>\n",
              "    </tr>\n",
              "  </thead>\n",
              "  <tbody>\n",
              "    <tr>\n",
              "      <th>0</th>\n",
              "      <td>1</td>\n",
              "      <td>13.20</td>\n",
              "      <td>1.78</td>\n",
              "      <td>2.14</td>\n",
              "      <td>11.2</td>\n",
              "      <td>100</td>\n",
              "      <td>2.65</td>\n",
              "      <td>2.76</td>\n",
              "      <td>0.26</td>\n",
              "      <td>1.28</td>\n",
              "      <td>4.38</td>\n",
              "      <td>1.05</td>\n",
              "      <td>3.40</td>\n",
              "      <td>1050</td>\n",
              "    </tr>\n",
              "    <tr>\n",
              "      <th>1</th>\n",
              "      <td>1</td>\n",
              "      <td>13.16</td>\n",
              "      <td>2.36</td>\n",
              "      <td>2.67</td>\n",
              "      <td>18.6</td>\n",
              "      <td>101</td>\n",
              "      <td>2.80</td>\n",
              "      <td>3.24</td>\n",
              "      <td>0.30</td>\n",
              "      <td>2.81</td>\n",
              "      <td>5.68</td>\n",
              "      <td>1.03</td>\n",
              "      <td>3.17</td>\n",
              "      <td>1185</td>\n",
              "    </tr>\n",
              "    <tr>\n",
              "      <th>2</th>\n",
              "      <td>1</td>\n",
              "      <td>14.37</td>\n",
              "      <td>1.95</td>\n",
              "      <td>2.50</td>\n",
              "      <td>16.8</td>\n",
              "      <td>113</td>\n",
              "      <td>3.85</td>\n",
              "      <td>3.49</td>\n",
              "      <td>0.24</td>\n",
              "      <td>2.18</td>\n",
              "      <td>7.80</td>\n",
              "      <td>0.86</td>\n",
              "      <td>3.45</td>\n",
              "      <td>1480</td>\n",
              "    </tr>\n",
              "    <tr>\n",
              "      <th>3</th>\n",
              "      <td>1</td>\n",
              "      <td>13.24</td>\n",
              "      <td>2.59</td>\n",
              "      <td>2.87</td>\n",
              "      <td>21.0</td>\n",
              "      <td>118</td>\n",
              "      <td>2.80</td>\n",
              "      <td>2.69</td>\n",
              "      <td>0.39</td>\n",
              "      <td>1.82</td>\n",
              "      <td>4.32</td>\n",
              "      <td>1.04</td>\n",
              "      <td>2.93</td>\n",
              "      <td>735</td>\n",
              "    </tr>\n",
              "    <tr>\n",
              "      <th>4</th>\n",
              "      <td>1</td>\n",
              "      <td>14.20</td>\n",
              "      <td>1.76</td>\n",
              "      <td>2.45</td>\n",
              "      <td>15.2</td>\n",
              "      <td>112</td>\n",
              "      <td>3.27</td>\n",
              "      <td>3.39</td>\n",
              "      <td>0.34</td>\n",
              "      <td>1.97</td>\n",
              "      <td>6.75</td>\n",
              "      <td>1.05</td>\n",
              "      <td>2.85</td>\n",
              "      <td>1450</td>\n",
              "    </tr>\n",
              "  </tbody>\n",
              "</table>\n",
              "</div>"
            ],
            "text/plain": [
              "   Class  Alcohol  Acid   Ash  ...  ColIntensity   Hue    OD  Proline\n",
              "0      1    13.20  1.78  2.14  ...          4.38  1.05  3.40     1050\n",
              "1      1    13.16  2.36  2.67  ...          5.68  1.03  3.17     1185\n",
              "2      1    14.37  1.95  2.50  ...          7.80  0.86  3.45     1480\n",
              "3      1    13.24  2.59  2.87  ...          4.32  1.04  2.93      735\n",
              "4      1    14.20  1.76  2.45  ...          6.75  1.05  2.85     1450\n",
              "\n",
              "[5 rows x 14 columns]"
            ]
          },
          "metadata": {
            "tags": []
          },
          "execution_count": 2
        }
      ]
    },
    {
      "cell_type": "code",
      "metadata": {
        "colab_type": "code",
        "id": "IeFKym5y9xOq",
        "colab": {
          "base_uri": "https://localhost:8080/",
          "height": 286
        },
        "outputId": "1ebfa7e0-b96d-413f-f6a8-c97ce46eb50b"
      },
      "source": [
        "def log(x):\n",
        "  return 0 if (x == 0) else math.log(x)\n",
        "\n",
        "results = pd.DataFrame(columns=['Attribute', 'Threshold', 'Gain Information'])\n",
        "\n",
        "for attribute in wines.columns[1:]:\n",
        "\n",
        "  \n",
        "  test = wines[['Class',f'{attribute}']].sort_values(['Class', f'{attribute}'], ascending=[True, True])\n",
        "\n",
        "  thresholds = []\n",
        "  thresholds.append(test.query(\"Class == 1\")[f'{attribute}'].iloc[0])\n",
        "  thresholds.append(test.query(\"Class == 1\")[f'{attribute}'].iloc[-1])\n",
        "  thresholds.append(test.query(\"Class == 2\")[f'{attribute}'].iloc[0])\n",
        "  thresholds.append(test.query(\"Class == 2\")[f'{attribute}'].iloc[-1])\n",
        "  thresholds.append(test.query(\"Class == 3\")[f'{attribute}'].iloc[0])\n",
        "  thresholds.append(test.query(\"Class == 3\")[f'{attribute}'].iloc[-1])\n",
        "\n",
        "  thresholds.sort()\n",
        "  thresholds = thresholds[1:-1]\n",
        "\n",
        "  n_samples = test.shape[0]\n",
        "  p_class1 = test.query('Class == 1').shape[0]/n_samples\n",
        "  p_class2 = test.query('Class == 2').shape[0]/n_samples\n",
        "  p_class3 = test.query('Class == 3').shape[0]/n_samples\n",
        "  entropy_dataset = - p_class1 * log(p_class1) - p_class2 * log(p_class2) - p_class3 * log(p_class3) \n",
        "\n",
        "  \n",
        "\n",
        "  for th in thresholds:\n",
        "    partition1 = test.query(f'{attribute} <= {th}')\n",
        "    n_partition1 = partition1.shape[0]\n",
        "    p1_class1 = partition1.query('Class == 1').shape[0]/n_partition1\n",
        "    p1_class2 = partition1.query('Class == 2').shape[0]/n_partition1\n",
        "    p1_class3 = partition1.query('Class == 3').shape[0]/n_partition1\n",
        "    entropy_part1 = - p1_class1 * log(p1_class1) - p1_class2 * log(p1_class2) - p1_class3 * log(p1_class3) \n",
        "\n",
        "    partition2 = test.query(f'{attribute} > {th}')\n",
        "    n_partition2 = partition2.shape[0]\n",
        "    p2_class1 = partition2.query('Class == 1').shape[0]/n_partition2\n",
        "    p2_class2 = partition2.query('Class == 2').shape[0]/n_partition2\n",
        "    p2_class3 = partition2.query('Class == 3').shape[0]/n_partition2\n",
        "    entropy_part2 = - p2_class1 * log(p2_class1) - p2_class2 * log(p2_class2) - p2_class3 * log(p2_class3) \n",
        "\n",
        "    n_test = test.shape[0]\n",
        "    entropy_splitting = (n_partition1/n_test) * entropy_part1 + (n_partition2/n_test) * entropy_part2\n",
        "    gain_info = entropy_dataset - entropy_splitting\n",
        "    \n",
        "    row = { 'Attribute': attribute, 'Threshold': th , 'Gain Information': gain_info }\n",
        "    results = results.append(row, ignore_index=True)\n",
        "\n",
        "plt.axvline(x=results['Threshold'].max(), color='black')"
      ],
      "execution_count": 3,
      "outputs": [
        {
          "output_type": "execute_result",
          "data": {
            "text/plain": [
              "<matplotlib.lines.Line2D at 0x7efebcf6b7b8>"
            ]
          },
          "metadata": {
            "tags": []
          },
          "execution_count": 3
        },
        {
          "output_type": "display_data",
          "data": {
            "image/png": "[encoded data removed]",
            "text/plain": [
              "<Figure size 432x288 with 1 Axes>"
            ]
          },
          "metadata": {
            "tags": [],
            "needs_background": "light"
          }
        }
      ]
    },
    {
      "cell_type": "code",
      "metadata": {
        "id": "mkrizEyKWL7L",
        "colab_type": "code",
        "colab": {
          "base_uri": "https://localhost:8080/",
          "height": 85
        },
        "outputId": "024a6371-b6f1-4706-bee7-67de669e02e4"
      },
      "source": [
        "results.sort_values(by='Gain Information').max()"
      ],
      "execution_count": 8,
      "outputs": [
        {
          "output_type": "execute_result",
          "data": {
            "text/plain": [
              "Attribute           TotPhenols\n",
              "Threshold                  985\n",
              "Gain Information      0.448471\n",
              "dtype: object"
            ]
          },
          "metadata": {
            "tags": []
          },
          "execution_count": 8
        }
      ]
    },
    {
      "cell_type": "code",
      "metadata": {
        "id": "LmBV2YTrUccs",
        "colab_type": "code",
        "colab": {
          "base_uri": "https://localhost:8080/",
          "height": 300
        },
        "outputId": "0e154b43-bc4c-49f9-84b0-1472bb7f2197"
      },
      "source": [
        "attribute = 'TotPhenols'\n",
        "sns.scatterplot(y=0.1, x=wines.query(\"Class == 1\")[f'{attribute}'], color='red')\n",
        "sns.scatterplot(y=0.2, x=wines.query(\"Class == 2\")[f'{attribute}'], color='blue')\n",
        "sns.scatterplot(y=0.3, x=wines.query(\"Class == 3\")[f'{attribute}'], color='green')\n",
        "plt.ylim(-2, 2)"
      ],
      "execution_count": 7,
      "outputs": [
        {
          "output_type": "execute_result",
          "data": {
            "text/plain": [
              "(-2.0, 2.0)"
            ]
          },
          "metadata": {
            "tags": []
          },
          "execution_count": 7
        },
        {
          "output_type": "display_data",
          "data": {
            "image/png": "[encoded data removed]",
            "text/plain": [
              "<Figure size 432x288 with 1 Axes>"
            ]
          },
          "metadata": {
            "tags": [],
            "needs_background": "light"
          }
        }
      ]
    }
  ]
}