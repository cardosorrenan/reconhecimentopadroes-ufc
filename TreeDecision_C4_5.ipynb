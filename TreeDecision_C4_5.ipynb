{
  "nbformat": 4,
  "nbformat_minor": 0,
  "metadata": {
    "colab": {
      "name": "TreeDecision_C4.5.ipynb",
      "provenance": [],
      "collapsed_sections": [],
      "toc_visible": true
    },
    "kernelspec": {
      "name": "python3",
      "display_name": "Python 3"
    }
  },
  "cells": [
    {
      "cell_type": "markdown",
      "metadata": {
        "id": "0wXeY8tvvK8u",
        "colab_type": "text"
      },
      "source": [
        "# **Trabalho 2 - Reconhecimento de Padrões**\n",
        "### Árvore de Decisão\n",
        "##### Renan Henrique Cardoso - 379013"
      ]
    },
    {
      "cell_type": "code",
      "metadata": {
        "id": "Z-eAwF2xyYPZ",
        "colab_type": "code",
        "colab": {
          "base_uri": "https://localhost:8080/",
          "height": 71
        },
        "outputId": "bed37a76-ffed-459d-9eea-3682f25d41a4"
      },
      "source": [
        "import pandas as pd                        # Utilizado para converter o .mat e trabalhar também com dataframes\n",
        "import seaborn as sns                      # Plotagem\n",
        "import matplotlib.pyplot as plt            # Plotagem\n",
        "import itertools\n",
        "import math\n",
        "pd.options.mode.chained_assignment = None  "
      ],
      "execution_count": 1,
      "outputs": [
        {
          "output_type": "stream",
          "text": [
            "/usr/local/lib/python3.6/dist-packages/statsmodels/tools/_testing.py:19: FutureWarning: pandas.util.testing is deprecated. Use the functions in the public API at pandas.testing instead.\n",
            "  import pandas.util.testing as tm\n"
          ],
          "name": "stderr"
        }
      ]
    },
    {
      "cell_type": "code",
      "metadata": {
        "id": "BhVLVXsdpakp",
        "colab_type": "code",
        "colab": {}
      },
      "source": [
        "def log(x):\n",
        "  return 0 if (x == 0) else math.log(x)\n",
        "\n",
        "# Todas as amostras de um determinado atributo são dispostas ordenadamente\n",
        "# em um vetor para extração das extremidades de cada classe (limiares)\n",
        "def getThresholds(df, attr):\n",
        "  thresholds = []\n",
        "  classes = df['Class'].unique().tolist()\n",
        "  for item in classes:\n",
        "    thresholds.append(df.query(f'Class == {item}')[f'{attr}'].iloc[0])\n",
        "    thresholds.append(df.query(f'Class == {item}')[f'{attr}'].iloc[-1])\n",
        "  thresholds.sort()\n",
        "  thresholds = thresholds[1:-1]\n",
        "  return thresholds\n",
        "\n",
        "\n",
        "def getEntropy(df):\n",
        "  n_samples = df.shape[0]\n",
        "  entropy = 0\n",
        "  classes = df['Class'].unique().tolist()\n",
        "  for item in classes:\n",
        "    prob = df.query(f'Class == {item}').shape[0]/n_samples\n",
        "    entropy = entropy - prob * log(prob)\n",
        "  return entropy \n",
        "\n",
        "\n",
        "def splitDataframe(df, attr, value):\n",
        "  part1 = df.query(f'{attr} <= {value}')\n",
        "  part2 = df.query(f'{attr} > {value}')\n",
        "  return part1, part2\n",
        "\n",
        "\n",
        "def treeDecision(wines):\n",
        "  best_entropy_attrs = pd.DataFrame(columns=['attribute', 'split_point', 'entropy'])\n",
        "  n_wines = wines.shape[0]\n",
        "  \n",
        " \n",
        "  for attribute in wines.columns[1:]: \n",
        "    df_class_attr = wines[['Class',f'{attribute}']]\n",
        "    df_class_attr = df_class_attr.sort_values(['Class', f'{attribute}'], ascending=[True, True])\n",
        "    thresholds = getThresholds(df_class_attr, attribute)\n",
        "\n",
        "    for th in thresholds:\n",
        "      \n",
        "      partition1, partition2 = splitDataframe(df_class_attr, attribute, th)\n",
        "      entropy_part1 = getEntropy(partition1)\n",
        "      entropy_part2 = getEntropy(partition2)\n",
        "\n",
        "      entropy_threshold = (partition1.shape[0]/n_wines) * entropy_part1 + (partition2.shape[0]/n_wines) * entropy_part2\n",
        "      row = { 'attribute': attribute, 'split_point': th, 'entropy': entropy_threshold }\n",
        "      best_entropy_attrs = best_entropy_attrs.append(row, ignore_index=True)\n",
        "  \n",
        "  best_entropy_attr = best_entropy_attrs.sort_values('entropy').groupby('attribute').first()\n",
        "  best_entropy = best_entropy_attr.sort_values('entropy').iloc[0]\n",
        "  partition1, partition2 = splitDataframe(wines, best_entropy.name, best_entropy.split_point)\n",
        "\n",
        "\n",
        "\n",
        "  return partition1, partition2, best_entropy"
      ],
      "execution_count": 6,
      "outputs": []
    },
    {
      "cell_type": "code",
      "metadata": {
        "id": "UOwMOT0iqAh2",
        "colab_type": "code",
        "colab": {
          "base_uri": "https://localhost:8080/",
          "height": 170
        },
        "outputId": "a39111b5-f170-4c8e-b5d9-c4bbb5444d83"
      },
      "source": [
        "wines = pd.read_csv(\"https://raw.githubusercontent.com/cardosorrenan/reconhecimentopadroes-ufc/master/wine.csv\")\n",
        "wines.columns = ['Class', 'Alcohol', 'Acid', 'Ash', 'Alcalinity', \n",
        "                  'Magnesium', 'TotPhenols', 'Flavanoids', 'NonflavPhenols', \n",
        "                  'Proanth', 'ColIntensity', 'Hue', 'OD', 'Proline']\n",
        "\n",
        "height = 1\n",
        "def tree_recursive(dataset, height):\n",
        "  if (getEntropy(dataset) != 0):\n",
        "    partition1, partition2, result = treeDecision(dataset)\n",
        "    print('Height:', height, '---' * height, end=' ')\n",
        "    print(result.name, end=' / ')\n",
        "    print('H:', round(result.entropy, 2), end=' / ')\n",
        "    print('Cut:', result.split_point, end=' / ')\n",
        "    print('Rows:', dataset.shape[0])\n",
        "    height += 1\n",
        "    del partition1[result.name]\n",
        "    del partition2[result.name]\n",
        "    result1 = tree_decision_recursive(partition1, height)\n",
        "    result2 = tree_decision_recursive(partition2, height)\n",
        "    return result1, result2\n",
        "  else:\n",
        "    return \n",
        "\n",
        "\n",
        "model = tree_recursive(wines, height)\n",
        "\n",
        "\n"
      ],
      "execution_count": 39,
      "outputs": [
        {
          "output_type": "stream",
          "text": [
            "Height: 1 --- Flavanoids / H: 0.64 / Cut: 1.57 / Rows: 177\n",
            "Height: 2 ------ ColIntensity / H: 0.14 / Cut: 3.85 / Rows: 62\n",
            "Height: 3 --------- Acid / H: 0.0 / Cut: 3.43 / Rows: 14\n",
            "Height: 3 --------- Alcalinity / H: 0.0 / Cut: 16.8 / Rows: 48\n",
            "Height: 2 ------ Proline / H: 0.22 / Cut: 680.0 / Rows: 115\n",
            "Height: 3 --------- Alcalinity / H: 0.04 / Cut: 17.5 / Rows: 52\n",
            "Height: 4 ------------ Acid / H: 0.0 / Cut: 1.41 / Rows: 4\n",
            "Height: 3 --------- Alcohol / H: 0.07 / Cut: 12.99 / Rows: 63\n",
            "Height: 4 ------------ ColIntensity / H: 0.0 / Cut: 3.9 / Rows: 8\n"
          ],
          "name": "stdout"
        }
      ]
    },
    {
      "cell_type": "code",
      "metadata": {
        "id": "LmBV2YTrUccs",
        "colab_type": "code",
        "colab": {}
      },
      "source": [
        "attribute = 'ColIntensity'\n",
        "sns.scatterplot(y=0.1, x=partition1.query(\"Class == 1\")[f'{attribute}'], color='red')\n",
        "sns.scatterplot(y=0.2, x=partition1.query(\"Class == 2\")[f'{attribute}'], color='blue')\n",
        "sns.scatterplot(y=0.3, x=partition1.query(\"Class == 3\")[f'{attribute}'], color='green')\n",
        "plt.ylim(-2, 2)"
      ],
      "execution_count": null,
      "outputs": []
    },
    {
      "cell_type": "code",
      "metadata": {
        "id": "N5qrJ_0ljzZz",
        "colab_type": "code",
        "colab": {
          "base_uri": "https://localhost:8080/",
          "height": 34
        },
        "outputId": "8bbd70eb-17fe-43f5-8c87-2d5f70015982"
      },
      "source": [
        "model"
      ],
      "execution_count": 11,
      "outputs": [
        {
          "output_type": "execute_result",
          "data": {
            "text/plain": [
              "((([], []), ([], [])), ((([], []), []), (([], []), [])))"
            ]
          },
          "metadata": {
            "tags": []
          },
          "execution_count": 11
        }
      ]
    }
  ]
}