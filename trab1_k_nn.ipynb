{
  "nbformat": 4,
  "nbformat_minor": 0,
  "metadata": {
    "colab": {
      "name": "trab1_k-nn.ipynb",
      "provenance": [],
      "collapsed_sections": [],
      "authorship_tag": "ABX9TyOXOio0WkQtR2p3//aWUXYF"
    },
    "kernelspec": {
      "name": "python3",
      "display_name": "Python 3"
    }
  },
  "cells": [
    {
      "cell_type": "markdown",
      "metadata": {
        "id": "tUbt_Lc1M4Ta",
        "colab_type": "text"
      },
      "source": [
        "# **Trabalho 1 - Reconhecimento de Padrões**\n",
        "##### Renan Henrique Cardoso - 379013"
      ]
    },
    {
      "cell_type": "code",
      "metadata": {
        "id": "qGgoXc5BEWOA",
        "colab_type": "code",
        "colab": {}
      },
      "source": [
        "from scipy import io   # Utilizado somente a função loadmat para carregar arquivo .mat \n",
        "import pandas as pd    # Utilizado para converter o .mat e trabalhar com dataframe\n",
        "import seaborn as sns  # Plotagem dos gráficos"
      ],
      "execution_count": null,
      "outputs": []
    },
    {
      "cell_type": "markdown",
      "metadata": {
        "id": "5nBG5uNeAi-R",
        "colab_type": "text"
      },
      "source": [
        "### **Upload dos arquivos .mat**"
      ]
    },
    {
      "cell_type": "code",
      "metadata": {
        "id": "LPHJziZy9KB0",
        "colab_type": "code",
        "colab": {
          "base_uri": "https://localhost:8080/",
          "height": 187
        },
        "outputId": "51c18ba1-55d6-402c-d896-e95747de34f0"
      },
      "source": [
        "!curl -o Classe1.mat --remote-name -H 'Accept: application/vnd.github.v3.raw' --location https://github.com/cardosorrenan/reconhecimentopadroes-ufc/blob/master/Classe1.mat?raw=true\n",
        "!curl -o Classe2.mat --remote-name -H 'Accept: application/vnd.github.v3.raw' --location https://github.com/cardosorrenan/reconhecimentopadroes-ufc/blob/master/Classe2.mat?raw=true"
      ],
      "execution_count": null,
      "outputs": [
        {
          "output_type": "stream",
          "text": [
            "  % Total    % Received % Xferd  Average Speed   Time    Time     Time  Current\n",
            "                                 Dload  Upload   Total   Spent    Left  Speed\n",
            "\r  0     0    0     0    0     0      0      0 --:--:-- --:--:-- --:--:--     0\r100   147  100   147    0     0    781      0 --:--:-- --:--:-- --:--:--   781\n",
            "\r100   158  100   158    0     0    544      0 --:--:-- --:--:-- --:--:--   544\n",
            "100  188k  100  188k    0     0   337k      0 --:--:-- --:--:-- --:--:-- 4182k\n",
            "  % Total    % Received % Xferd  Average Speed   Time    Time     Time  Current\n",
            "                                 Dload  Upload   Total   Spent    Left  Speed\n",
            "100   147  100   147    0     0    936      0 --:--:-- --:--:-- --:--:--   936\n",
            "100   158  100   158    0     0    574      0 --:--:-- --:--:-- --:--:--   574\n",
            "100  188k  100  188k    0     0   274k      0 --:--:-- --:--:-- --:--:--  537k\n"
          ],
          "name": "stdout"
        }
      ]
    },
    {
      "cell_type": "markdown",
      "metadata": {
        "id": "wojKy5Daj9Qn",
        "colab_type": "text"
      },
      "source": [
        "### **Plot exemplo de sinal ECG**"
      ]
    },
    {
      "cell_type": "code",
      "metadata": {
        "id": "TCVgZ-3nCkf-",
        "colab_type": "code",
        "colab": {
          "base_uri": "https://localhost:8080/",
          "height": 282
        },
        "outputId": "9c1b8d37-c891-4ce2-a153-06e927d7735f"
      },
      "source": [
        "ecgs = io.loadmat('Classe1.mat')['Classe1']  # Carrega para 'ecgs' o arquivo Classe1.mat\n",
        "ecgs = pd.DataFrame(ecgs)                    # Transforma do formato dicionário para dataframe\n",
        "sns.lineplot(data=ecgs[49])                  # Exibe o sinal exemplo 50"
      ],
      "execution_count": null,
      "outputs": [
        {
          "output_type": "execute_result",
          "data": {
            "text/plain": [
              "<matplotlib.axes._subplots.AxesSubplot at 0x7f1d2414a2b0>"
            ]
          },
          "metadata": {
            "tags": []
          },
          "execution_count": 148
        },
        {
          "output_type": "display_data",
          "data": {
            "image/png": "[encoded data removed]",
            "text/plain": [
              "<Figure size 432x288 with 1 Axes>"
            ]
          },
          "metadata": {
            "tags": [],
            "needs_background": "light"
          }
        }
      ]
    },
    {
      "cell_type": "markdown",
      "metadata": {
        "id": "XbmTxQrVkA0f",
        "colab_type": "text"
      },
      "source": [
        "### **Plot exemplo de sinal de ruído**"
      ]
    },
    {
      "cell_type": "code",
      "metadata": {
        "id": "MLR7rgqXkEfK",
        "colab_type": "code",
        "colab": {
          "base_uri": "https://localhost:8080/",
          "height": 282
        },
        "outputId": "759300c1-d876-4257-ddf2-6d0fc18046d2"
      },
      "source": [
        "noises = io.loadmat('Classe2.mat')['Classe2']  \n",
        "noises = pd.DataFrame(noises)                 \n",
        "sns.lineplot(data=noises[13])                  "
      ],
      "execution_count": null,
      "outputs": [
        {
          "output_type": "execute_result",
          "data": {
            "text/plain": [
              "<matplotlib.axes._subplots.AxesSubplot at 0x7f1d24ec4128>"
            ]
          },
          "metadata": {
            "tags": []
          },
          "execution_count": 149
        },
        {
          "output_type": "display_data",
          "data": {
            "image/png": "[encoded data removed]",
            "text/plain": [
              "<Figure size 432x288 with 1 Axes>"
            ]
          },
          "metadata": {
            "tags": [],
            "needs_background": "light"
          }
        }
      ]
    },
    {
      "cell_type": "markdown",
      "metadata": {
        "id": "tU8t-W9tknFG",
        "colab_type": "text"
      },
      "source": [
        "### **Características dos sinais elegidas**:\n",
        "  - **Média**\n",
        "  - **Mediana**\n",
        "  - **Variância**\n",
        "  - **Curtose** (Kurtosis): Medida de forma que caracteriza o achatamento da curva da função de distribuição de probabilidade\n",
        "  - **Assimetria** (Skewness): Medida da assimetria da distribuição de probabilidade de uma variável aleatória com valor real sobre sua média"
      ]
    },
    {
      "cell_type": "markdown",
      "metadata": {
        "id": "SPTGvYylu0DK",
        "colab_type": "text"
      },
      "source": [
        "### **Definindo vetor de características para os sinais de ECG**"
      ]
    },
    {
      "cell_type": "code",
      "metadata": {
        "id": "Rfv18hnBrbjw",
        "colab_type": "code",
        "colab": {
          "base_uri": "https://localhost:8080/",
          "height": 221
        },
        "outputId": "52f63762-5325-4686-9466-605dec9379e7"
      },
      "source": [
        "ecg_features = pd.DataFrame()               # Instancia um novo DataFrame\n",
        "ecg_features['mean'] = ecgs.mean()          # Calcula a média de cada sinal ecg\n",
        "ecg_features['median'] = ecgs.median()      # Calcula a mediana de cada sinal ecg\n",
        "ecg_features['variance'] = ecgs.var()       # Calcula a variância de cada sinal ecg\n",
        "ecg_features['kurtosis'] = ecgs.kurtosis()  # Calcula a curtose de cada sinal ecg\n",
        "ecg_features['skewness'] = ecgs.skew()      # Calcula a assimetria de cada sinal ecg\n",
        "print('ecg_features', ecg_features.shape)   # Exibe dimensão do dataframe\n",
        "ecg_features.head()                         # Exibe uma amostra com 5 sinais"
      ],
      "execution_count": null,
      "outputs": [
        {
          "output_type": "stream",
          "text": [
            "ecg_features (50, 5)\n"
          ],
          "name": "stdout"
        },
        {
          "output_type": "execute_result",
          "data": {
            "text/html": [
              "<div>\n",
              "<style scoped>\n",
              "    .dataframe tbody tr th:only-of-type {\n",
              "        vertical-align: middle;\n",
              "    }\n",
              "\n",
              "    .dataframe tbody tr th {\n",
              "        vertical-align: top;\n",
              "    }\n",
              "\n",
              "    .dataframe thead th {\n",
              "        text-align: right;\n",
              "    }\n",
              "</style>\n",
              "<table border=\"1\" class=\"dataframe\">\n",
              "  <thead>\n",
              "    <tr style=\"text-align: right;\">\n",
              "      <th></th>\n",
              "      <th>mean</th>\n",
              "      <th>median</th>\n",
              "      <th>variance</th>\n",
              "      <th>kurtosis</th>\n",
              "      <th>skewness</th>\n",
              "    </tr>\n",
              "  </thead>\n",
              "  <tbody>\n",
              "    <tr>\n",
              "      <th>0</th>\n",
              "      <td>0.054555</td>\n",
              "      <td>0.029564</td>\n",
              "      <td>0.044934</td>\n",
              "      <td>7.342880</td>\n",
              "      <td>0.712121</td>\n",
              "    </tr>\n",
              "    <tr>\n",
              "      <th>1</th>\n",
              "      <td>0.219775</td>\n",
              "      <td>0.121604</td>\n",
              "      <td>0.772401</td>\n",
              "      <td>7.525372</td>\n",
              "      <td>0.524423</td>\n",
              "    </tr>\n",
              "    <tr>\n",
              "      <th>2</th>\n",
              "      <td>0.006182</td>\n",
              "      <td>0.003271</td>\n",
              "      <td>0.000600</td>\n",
              "      <td>7.949215</td>\n",
              "      <td>0.598263</td>\n",
              "    </tr>\n",
              "    <tr>\n",
              "      <th>3</th>\n",
              "      <td>0.175649</td>\n",
              "      <td>0.092538</td>\n",
              "      <td>0.429686</td>\n",
              "      <td>7.802710</td>\n",
              "      <td>0.710876</td>\n",
              "    </tr>\n",
              "    <tr>\n",
              "      <th>4</th>\n",
              "      <td>0.249563</td>\n",
              "      <td>0.147590</td>\n",
              "      <td>0.927059</td>\n",
              "      <td>7.554545</td>\n",
              "      <td>0.695768</td>\n",
              "    </tr>\n",
              "  </tbody>\n",
              "</table>\n",
              "</div>"
            ],
            "text/plain": [
              "       mean    median  variance  kurtosis  skewness\n",
              "0  0.054555  0.029564  0.044934  7.342880  0.712121\n",
              "1  0.219775  0.121604  0.772401  7.525372  0.524423\n",
              "2  0.006182  0.003271  0.000600  7.949215  0.598263\n",
              "3  0.175649  0.092538  0.429686  7.802710  0.710876\n",
              "4  0.249563  0.147590  0.927059  7.554545  0.695768"
            ]
          },
          "metadata": {
            "tags": []
          },
          "execution_count": 157
        }
      ]
    },
    {
      "cell_type": "markdown",
      "metadata": {
        "id": "m7xMYoSQu1_5",
        "colab_type": "text"
      },
      "source": [
        "### **Definindo vetor de características para os sinais de ruído**"
      ]
    },
    {
      "cell_type": "code",
      "metadata": {
        "id": "p_C-1lt9mYyz",
        "colab_type": "code",
        "colab": {
          "base_uri": "https://localhost:8080/",
          "height": 221
        },
        "outputId": "905b6f90-e4d3-446d-9936-91c6283f01ce"
      },
      "source": [
        "noise_features = pd.DataFrame()\n",
        "noise_features['mean'] = noises.mean()\n",
        "noise_features['median'] = noises.median()\n",
        "noise_features['var'] = noises.var()\n",
        "noise_features['kurtosis'] = noises.kurtosis()\n",
        "noise_features['skew'] = noises.skew()\n",
        "print('noise_features', ecg_features.shape)\n",
        "noise_features.head()"
      ],
      "execution_count": null,
      "outputs": [
        {
          "output_type": "stream",
          "text": [
            "noise_features (50, 5)\n"
          ],
          "name": "stdout"
        },
        {
          "output_type": "execute_result",
          "data": {
            "text/html": [
              "<div>\n",
              "<style scoped>\n",
              "    .dataframe tbody tr th:only-of-type {\n",
              "        vertical-align: middle;\n",
              "    }\n",
              "\n",
              "    .dataframe tbody tr th {\n",
              "        vertical-align: top;\n",
              "    }\n",
              "\n",
              "    .dataframe thead th {\n",
              "        text-align: right;\n",
              "    }\n",
              "</style>\n",
              "<table border=\"1\" class=\"dataframe\">\n",
              "  <thead>\n",
              "    <tr style=\"text-align: right;\">\n",
              "      <th></th>\n",
              "      <th>mean</th>\n",
              "      <th>median</th>\n",
              "      <th>var</th>\n",
              "      <th>kurtosis</th>\n",
              "      <th>skew</th>\n",
              "    </tr>\n",
              "  </thead>\n",
              "  <tbody>\n",
              "    <tr>\n",
              "      <th>0</th>\n",
              "      <td>0.002110</td>\n",
              "      <td>0.003533</td>\n",
              "      <td>0.000173</td>\n",
              "      <td>-1.013604</td>\n",
              "      <td>-0.308855</td>\n",
              "    </tr>\n",
              "    <tr>\n",
              "      <th>1</th>\n",
              "      <td>0.087184</td>\n",
              "      <td>0.171650</td>\n",
              "      <td>0.300552</td>\n",
              "      <td>-0.987618</td>\n",
              "      <td>-0.332647</td>\n",
              "    </tr>\n",
              "    <tr>\n",
              "      <th>2</th>\n",
              "      <td>0.154969</td>\n",
              "      <td>0.307802</td>\n",
              "      <td>1.159563</td>\n",
              "      <td>-0.964448</td>\n",
              "      <td>-0.344421</td>\n",
              "    </tr>\n",
              "    <tr>\n",
              "      <th>3</th>\n",
              "      <td>0.043552</td>\n",
              "      <td>0.089607</td>\n",
              "      <td>0.093389</td>\n",
              "      <td>-0.975847</td>\n",
              "      <td>-0.357878</td>\n",
              "    </tr>\n",
              "    <tr>\n",
              "      <th>4</th>\n",
              "      <td>0.026380</td>\n",
              "      <td>0.055927</td>\n",
              "      <td>0.027955</td>\n",
              "      <td>-0.976322</td>\n",
              "      <td>-0.330218</td>\n",
              "    </tr>\n",
              "  </tbody>\n",
              "</table>\n",
              "</div>"
            ],
            "text/plain": [
              "       mean    median       var  kurtosis      skew\n",
              "0  0.002110  0.003533  0.000173 -1.013604 -0.308855\n",
              "1  0.087184  0.171650  0.300552 -0.987618 -0.332647\n",
              "2  0.154969  0.307802  1.159563 -0.964448 -0.344421\n",
              "3  0.043552  0.089607  0.093389 -0.975847 -0.357878\n",
              "4  0.026380  0.055927  0.027955 -0.976322 -0.330218"
            ]
          },
          "metadata": {
            "tags": []
          },
          "execution_count": 160
        }
      ]
    },
    {
      "cell_type": "markdown",
      "metadata": {
        "id": "NBJOE3o6tWl7",
        "colab_type": "text"
      },
      "source": [
        "### **Gráfico** - Kurtosis x Skewness\n",
        " - **Azul**: Sinal ECG\n",
        " - **Vermelho**: Sinal de Ruído"
      ]
    },
    {
      "cell_type": "code",
      "metadata": {
        "id": "9oVqr7KIrr3h",
        "colab_type": "code",
        "colab": {
          "base_uri": "https://localhost:8080/",
          "height": 296
        },
        "outputId": "fb091ed7-ea27-44df-d516-626cc308fe3e"
      },
      "source": [
        "sns.scatterplot(x=ecg_features['kurtosis'], y=ecg_features['skew'], color='blue')\n",
        "sns.scatterplot(x=noise_features['kurtosis'], y=noise_features['skew'], color='red')"
      ],
      "execution_count": null,
      "outputs": [
        {
          "output_type": "execute_result",
          "data": {
            "text/plain": [
              "<matplotlib.axes._subplots.AxesSubplot at 0x7f1d242c4908>"
            ]
          },
          "metadata": {
            "tags": []
          },
          "execution_count": 145
        },
        {
          "output_type": "display_data",
          "data": {
            "image/png": "[encoded data removed]",
            "text/plain": [
              "<Figure size 432x288 with 1 Axes>"
            ]
          },
          "metadata": {
            "tags": [],
            "needs_background": "light"
          }
        }
      ]
    }
  ]
}