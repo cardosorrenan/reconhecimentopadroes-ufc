{
  "nbformat": 4,
  "nbformat_minor": 0,
  "metadata": {
    "colab": {
      "name": "Bayesians",
      "provenance": [],
      "collapsed_sections": []
    },
    "kernelspec": {
      "name": "python3",
      "display_name": "Python 3"
    }
  },
  "cells": [
    {
      "cell_type": "code",
      "metadata": {
        "id": "WPx57Ypbhp_q",
        "colab_type": "code",
        "colab": {
          "base_uri": "https://localhost:8080/",
          "height": 71
        },
        "outputId": "26a6b550-6e10-41a8-99c7-ce6e0862348f"
      },
      "source": [
        "import pandas as pd\n",
        "import numpy as np\n",
        "import seaborn as sns\n",
        "import matplotlib.pyplot as plt\n",
        "import math\n",
        "\n",
        "names_columns = ['erythema', 'scaling', 'def_borders', 'itching', 'koebner_phen', 'poly_papules',\n",
        "                 'fol_papules', 'oral_muc_inv', 'knee_elbow_inv', 'scalp_inv', 'family_history',\n",
        "                 'melanin_incont', 'eos_infiltrate', 'pnl_infiltrate', 'fibrosis_papil_derm', \n",
        "                 'exocytosis', 'acanthosis', 'hyperkeratosis', 'parakeratosis', 'club_rete_ridges', \n",
        "                 'elong_rete_ridges', 'thinning_supra_epid', 'spongiform_pustule', 'munro_microabcess', \n",
        "                 'focal_hypergran', 'dis_granular_layer', 'vac_damage_basal', 'spongiosis', 'saw_tooth_retes', \n",
        "                 'fol_horn_plug', 'perifol_parakeratosis', 'inflam_mono_inf', 'band_like_inf', 'age', 'Class']"
      ],
      "execution_count": null,
      "outputs": [
        {
          "output_type": "stream",
          "text": [
            "/usr/local/lib/python3.6/dist-packages/statsmodels/tools/_testing.py:19: FutureWarning: pandas.util.testing is deprecated. Use the functions in the public API at pandas.testing instead.\n",
            "  import pandas.util.testing as tm\n"
          ],
          "name": "stderr"
        }
      ]
    },
    {
      "cell_type": "markdown",
      "metadata": {
        "id": "Pn_OfqrqjEkk",
        "colab_type": "text"
      },
      "source": [
        "### **Análise inicial dos dados**"
      ]
    },
    {
      "cell_type": "markdown",
      "metadata": {
        "id": "PTKt71A88Vmt",
        "colab_type": "text"
      },
      "source": [
        "- Função que retorna as matrizes de covariância e correlação de um conjunto de dados"
      ]
    },
    {
      "cell_type": "code",
      "metadata": {
        "id": "dR-HKWz2jtYD",
        "colab_type": "code",
        "colab": {}
      },
      "source": [
        "def create_matrices(df, u_vector):\n",
        "  attrs = df.columns.to_list()\n",
        "  n_attrs = len(attrs)\n",
        "  mtrx_cov = np.zeros(shape=(n_attrs, n_attrs))\n",
        "  mtrx_corr = np.zeros(shape=(n_attrs, n_attrs))\n",
        "  for i in range(0, n_attrs):\n",
        "    for j in range(i, n_attrs):\n",
        "      sum_attr1 = df.apply(lambda row: row[attrs[i]] - u_vector[attrs[i]], axis=1)\n",
        "      sum_attr2 = df.apply(lambda row: row[attrs[j]] - u_vector[attrs[j]], axis=1)\n",
        "      cov = (sum_attr1 * sum_attr2).sum() / (df.shape[0] - 1)\n",
        "      corr = cov / (df[attrs[i]].std() * df[attrs[j]].std())\n",
        "      mtrx_cov[i,j] = mtrx_cov[j,i] = cov\n",
        "      mtrx_corr[i,j] = mtrx_corr[j,i] = corr\n",
        "  df_cov = pd.DataFrame(mtrx_cov, index=attrs, columns=attrs)\n",
        "  df_corr = pd.DataFrame(mtrx_corr, index=attrs, columns=attrs)\n",
        "  return df_cov, df_corr\n",
        "\n",
        "\n",
        "def reset_dataset():\n",
        "  # derma = pd.read_csv('dermatology.csv') # Lê o dataset\n",
        "  derma = pd.read_csv(\"https://raw.githubusercontent.com/cardosorrenan/reconhecimentopadroes-ufc/master/datasets/dermatology.csv\")\n",
        "  derma.columns = names_columns # Seta o nome das colunas\n",
        "  age_avg = round(pd.to_numeric(derma['age'], errors='coerce').dropna().mean(), 0) #   Substitui os ? da coluna\n",
        "  derma['age'] = pd.to_numeric(derma['age'], errors='coerce').fillna(age_avg)      # 'idade' pela sua média\n",
        "  derma = derma.sample(frac=1) # Embaralha o dataset\n",
        "  derma = derma.reset_index(drop=True)\n",
        "  return derma"
      ],
      "execution_count": null,
      "outputs": []
    },
    {
      "cell_type": "code",
      "metadata": {
        "id": "AUMT5JCanMJV",
        "colab_type": "code",
        "colab": {
          "base_uri": "https://localhost:8080/",
          "height": 51
        },
        "outputId": "fe4ad86f-f6a7-46d5-b50f-905622aa59e0"
      },
      "source": [
        "derma = reset_dataset()\n",
        "\n",
        "derma1 = derma[derma['Class'] == 1]\n",
        "derma2 = derma[derma['Class'] == 2]\n",
        "derma3 = derma[derma['Class'] == 3]\n",
        "derma4 = derma[derma['Class'] == 4]\n",
        "derma5 = derma[derma['Class'] == 5]\n",
        "derma6 = derma[derma['Class'] == 6]\n",
        "\n",
        "del derma1['Class']\n",
        "del derma2['Class']\n",
        "del derma3['Class']\n",
        "del derma4['Class']\n",
        "del derma5['Class']\n",
        "del derma6['Class']\n",
        "\n",
        "u1_vector = derma1.mean()\n",
        "u2_vector = derma2.mean()\n",
        "u3_vector = derma3.mean()\n",
        "u4_vector = derma4.mean()\n",
        "u5_vector = derma5.mean()\n",
        "u6_vector = derma6.mean()\n",
        "\n",
        "v1_vector = derma1.var()\n",
        "v2_vector = derma2.var()\n",
        "v3_vector = derma3.var()\n",
        "v4_vector = derma4.var()\n",
        "v5_vector = derma5.var()\n",
        "v6_vector = derma6.var()\n",
        "\n",
        "cov1, corr1 = create_matrices(derma1, u1_vector)\n",
        "cov2, corr2 = create_matrices(derma2, u2_vector)\n",
        "cov3, corr3 = create_matrices(derma3, u3_vector)\n",
        "cov4, corr4 = create_matrices(derma4, u4_vector)\n",
        "cov5, corr5 = create_matrices(derma5, u5_vector)\n",
        "cov6, corr6 = create_matrices(derma6, u6_vector)"
      ],
      "execution_count": null,
      "outputs": [
        {
          "output_type": "stream",
          "text": [
            "/usr/local/lib/python3.6/dist-packages/ipykernel_launcher.py:11: RuntimeWarning: invalid value encountered in double_scalars\n",
            "  # This is added back by InteractiveShellApp.init_path()\n"
          ],
          "name": "stderr"
        }
      ]
    },
    {
      "cell_type": "markdown",
      "metadata": {
        "id": "lQdimFbLr-XO",
        "colab_type": "text"
      },
      "source": [
        "- Que informação, sobre os atributos, é obtida através da matriz de correlação?\n",
        "\n",
        "A matriz de correlação auxilia em determinar a relação (-1 < corr < 1) entre os dois atributos, podemos observar melhor atráves de um mapa de calor todas essas conexões de causa e efeito entre os dados (logo abaixo), sendo assim, da figura podemos extrair quais são os atributos que possuem uma 'forte conexão', positivamente, onde os dois cresceriam juntos, ou negativamente, onde seria observados um decaimento mútuo."
      ]
    },
    {
      "cell_type": "code",
      "metadata": {
        "id": "dhMzJTp7tIIU",
        "colab_type": "code",
        "colab": {
          "base_uri": "https://localhost:8080/",
          "height": 581
        },
        "outputId": "f43a19d9-7739-4766-da1b-4c916973107d"
      },
      "source": [
        "df = derma.drop('Class', axis=1)\n",
        "cov, corr = create_matrices(df, df.mean())\n",
        "sns.heatmap(corr, xticklabels=corr.columns, yticklabels=corr.columns)\n",
        "plt.gcf().set_size_inches(8, 8)"
      ],
      "execution_count": null,
      "outputs": [
        {
          "output_type": "display_data",
          "data": {
            "image/png": "[encoded data removed]",
            "text/plain": [
              "<Figure size 576x576 with 2 Axes>"
            ]
          },
          "metadata": {
            "tags": [],
            "needs_background": "light"
          }
        }
      ]
    },
    {
      "cell_type": "code",
      "metadata": {
        "id": "Y4eAyNjrx9uO",
        "colab_type": "code",
        "colab": {
          "base_uri": "https://localhost:8080/",
          "height": 71
        },
        "outputId": "9bb802e7-7357-4d53-e22c-7ce05da2fa0c"
      },
      "source": [
        "corr_s = corr.unstack().sort_values(kind=\"quicksort\")\n",
        "result = pd.Series()\n",
        "for i, val in enumerate(corr_s.tolist()):\n",
        "  if (corr_s.index[i][0] != corr_s.index[i][1]):\n",
        "    row = f'{corr_s.index[i][0]} - {corr_s.index[i][1]}'\n",
        "    result.loc[row] = val"
      ],
      "execution_count": null,
      "outputs": [
        {
          "output_type": "stream",
          "text": [
            "/usr/local/lib/python3.6/dist-packages/ipykernel_launcher.py:2: DeprecationWarning: The default dtype for empty Series will be 'object' instead of 'float64' in a future version. Specify a dtype explicitly to silence this warning.\n",
            "  \n"
          ],
          "name": "stderr"
        }
      ]
    },
    {
      "cell_type": "markdown",
      "metadata": {
        "id": "QYLz1_aH5UDy",
        "colab_type": "text"
      },
      "source": [
        "\n",
        "#### **Os 10 atributos mais correlacionados positivamente**"
      ]
    },
    {
      "cell_type": "code",
      "metadata": {
        "id": "5og-zCrt5Pks",
        "colab_type": "code",
        "colab": {
          "base_uri": "https://localhost:8080/",
          "height": 204
        },
        "outputId": "9f2fcf8d-0c4c-45d9-9791-7e74f88b8dc2"
      },
      "source": [
        "result[-10:].sort_values(ascending=False)"
      ],
      "execution_count": null,
      "outputs": [
        {
          "output_type": "execute_result",
          "data": {
            "text/plain": [
              "melanin_incont - vac_damage_basal        0.941623\n",
              "vac_damage_basal - melanin_incont        0.941623\n",
              "vac_damage_basal - saw_tooth_retes       0.938359\n",
              "saw_tooth_retes - vac_damage_basal       0.938359\n",
              "vac_damage_basal - band_like_inf         0.937521\n",
              "band_like_inf - vac_damage_basal         0.937521\n",
              "fol_horn_plug - perifol_parakeratosis    0.928918\n",
              "perifol_parakeratosis - fol_horn_plug    0.928918\n",
              "band_like_inf - saw_tooth_retes          0.928703\n",
              "saw_tooth_retes - band_like_inf          0.928703\n",
              "dtype: float64"
            ]
          },
          "metadata": {
            "tags": []
          },
          "execution_count": 6
        }
      ]
    },
    {
      "cell_type": "markdown",
      "metadata": {
        "id": "bidbn2vY5UcN",
        "colab_type": "text"
      },
      "source": [
        "#### **Os 10 atributos mais correlacionados negativamente**"
      ]
    },
    {
      "cell_type": "code",
      "metadata": {
        "id": "avrwopYK5Ro5",
        "colab_type": "code",
        "colab": {
          "base_uri": "https://localhost:8080/",
          "height": 204
        },
        "outputId": "e24e10a4-cf2b-406e-d336-4ecaa11e15db"
      },
      "source": [
        "result[0:10]"
      ],
      "execution_count": null,
      "outputs": [
        {
          "output_type": "execute_result",
          "data": {
            "text/plain": [
              "exocytosis - elong_rete_ridges     -0.707813\n",
              "elong_rete_ridges - exocytosis     -0.707813\n",
              "thinning_supra_epid - exocytosis   -0.631516\n",
              "exocytosis - thinning_supra_epid   -0.631516\n",
              "exocytosis - club_rete_ridges      -0.625530\n",
              "club_rete_ridges - exocytosis      -0.625530\n",
              "elong_rete_ridges - spongiosis     -0.583316\n",
              "spongiosis - elong_rete_ridges     -0.583316\n",
              "knee_elbow_inv - exocytosis        -0.533249\n",
              "exocytosis - knee_elbow_inv        -0.533249\n",
              "dtype: float64"
            ]
          },
          "metadata": {
            "tags": []
          },
          "execution_count": 7
        }
      ]
    },
    {
      "cell_type": "markdown",
      "metadata": {
        "id": "yKLWZ-qC6CSV",
        "colab_type": "text"
      },
      "source": [
        "### **Classificadores Bayesianos**"
      ]
    },
    {
      "cell_type": "markdown",
      "metadata": {
        "id": "I0qWPFx369gF",
        "colab_type": "text"
      },
      "source": [
        "#### **Métodos construídos para classificação**\n",
        " - Obs: Nessa parte será usada a própria função do pandas (df.corr) para obter a matriz de covariância, devido somente a performance"
      ]
    },
    {
      "cell_type": "code",
      "metadata": {
        "id": "Pa4COQdL6Ue7",
        "colab_type": "code",
        "colab": {}
      },
      "source": [
        "det = lambda x: np.linalg.det(x)\n",
        "inv = lambda x: np.linalg.inv(x)\n",
        "arr = lambda x: np.array(x)\n",
        "log = lambda x: np.log(x)\n",
        "\n",
        "\n",
        "def split_folds(n_fold):\n",
        "  derma['fold'] = pd.DataFrame(data=[-1]*derma.shape[0])  # Todas as linhas da coluna 'fold' recebe -1, pois ainda não pertencem a nenhum fold\n",
        "  samples = math.floor(derma.shape[0]/n_fold)           # Quantidade de amostras em cada fold\n",
        "  for fold in list(range(0, n_fold)):                     # Como K=10, cada linha pertencerá a um fold [0, 1, ..., 9] \n",
        "    base = fold*samples\n",
        "    top = fold*samples + samples - 1\n",
        "    derma.loc[base:top, 'fold'] = fold     # 0-16 será 0-Fold / 17-33 será 1-Fold / ... / 153-169 será 10-Fold\n",
        "  return derma\n",
        "\n",
        "\n",
        "def z_score(column):\n",
        "  if (column.name != 'Class' and column.name != 'fold'):\n",
        "    mean = column.mean()\n",
        "    std_dev = column.std()\n",
        "    column = column.apply(lambda x: (x - mean)/std_dev)\n",
        "\n",
        "  return column\n",
        "  \n",
        "\n",
        "def split_normalize_dataset(fold):\n",
        "  train_x = {\n",
        "    'class_1': derma.query(f'fold != {fold}').apply(z_score).query('Class == 1').drop(['Class', 'fold'], axis=1),\n",
        "    'class_2': derma.query(f'fold != {fold}').apply(z_score).query('Class == 2').drop(['Class', 'fold'], axis=1),\n",
        "    'class_3': derma.query(f'fold != {fold}').apply(z_score).query('Class == 3').drop(['Class', 'fold'], axis=1),\n",
        "    'class_4': derma.query(f'fold != {fold}').apply(z_score).query('Class == 4').drop(['Class', 'fold'], axis=1),\n",
        "    'class_5': derma.query(f'fold != {fold}').apply(z_score).query('Class == 5').drop(['Class', 'fold'], axis=1),\n",
        "    'class_6': derma.query(f'fold != {fold}').apply(z_score).query('Class == 6').drop(['Class', 'fold'], axis=1)\n",
        "  }\n",
        "  train_y = derma.query(f'fold != {fold}')['Class']\n",
        "  test_x = derma.query(f'fold == {fold}').drop(['Class', 'fold'], axis=1).apply(z_score)\n",
        "  test_y = derma.query(f'fold == {fold}')['Class']\n",
        "  return train_x, train_y, test_x, test_y\n",
        "\n",
        "\n",
        "def get_mean_vector(train_x):\n",
        "  return {\n",
        "    'class_1': train_x['class_1'].mean(),\n",
        "    'class_2': train_x['class_2'].mean(),\n",
        "    'class_3': train_x['class_3'].mean(),\n",
        "    'class_4': train_x['class_4'].mean(),\n",
        "    'class_5': train_x['class_5'].mean(),\n",
        "    'class_6': train_x['class_6'].mean()\n",
        "  }\n",
        "\n",
        "\n",
        "def get_matrices_cov(train_x):\n",
        "  cov1 = train_x['class_1'].cov()\n",
        "  cov2 = train_x['class_2'].cov()\n",
        "  cov3 = train_x['class_3'].cov()\n",
        "  cov4 = train_x['class_4'].cov()\n",
        "  cov5 = train_x['class_5'].cov()\n",
        "  cov6 = train_x['class_6'].cov()\n",
        "  return {\n",
        "    'class_1': cov1 + np.identity(cov1.shape[0])*0.01,\n",
        "    'class_2': cov2 + np.identity(cov2.shape[0])*0.01,\n",
        "    'class_3': cov3 + np.identity(cov3.shape[0])*0.01,\n",
        "    'class_4': cov4 + np.identity(cov4.shape[0])*0.01,\n",
        "    'class_5': cov5 + np.identity(cov5.shape[0])*0.01,\n",
        "    'class_6': cov6 + np.identity(cov6.shape[0])*0.01\n",
        "  }\n",
        "\n",
        "\n",
        "def get_prob_priori(train_x):\n",
        "  len_x1 = train_x['class_1'].shape[0]\n",
        "  len_x2 = train_x['class_2'].shape[0]\n",
        "  len_x3 = train_x['class_3'].shape[0]\n",
        "  len_x4 = train_x['class_4'].shape[0]\n",
        "  len_x5 = train_x['class_5'].shape[0]\n",
        "  len_x6 = train_x['class_6'].shape[0]\n",
        "  len_total = len_x1 + len_x2 + len_x3 + len_x4 + len_x5 + len_x6\n",
        "  return {\n",
        "    'class_1': len_x1/len_total,\n",
        "    'class_2': len_x2/len_total,\n",
        "    'class_3': len_x3/len_total,\n",
        "    'class_4': len_x4/len_total,\n",
        "    'class_5': len_x5/len_total,\n",
        "    'class_6': len_x6/len_total\n",
        "  }\n",
        "  \n",
        "\n",
        "def QDA(test_row, mean, cov, priori):\n",
        "  v1 = log(det(cov['class_1'])) + arr(test_row - mean['class_1'].T).T @ inv(cov['class_1']) @ arr(test_row - mean['class_1']).T - 2*log(priori['class_1'])\n",
        "  v2 = log(det(cov['class_2'])) + arr(test_row - mean['class_2'].T).T @ inv(cov['class_2']) @ arr(test_row - mean['class_2']).T - 2*log(priori['class_2'])\n",
        "  v3 = log(det(cov['class_3'])) + arr(test_row - mean['class_3'].T).T @ inv(cov['class_3']) @ arr(test_row - mean['class_3']).T - 2*log(priori['class_3'])\n",
        "  v4 = log(det(cov['class_4'])) + arr(test_row - mean['class_4'].T).T @ inv(cov['class_4']) @ arr(test_row - mean['class_4']).T - 2*log(priori['class_4'])\n",
        "  v5 = log(det(cov['class_5'])) + arr(test_row - mean['class_5'].T).T @ inv(cov['class_5']) @ arr(test_row - mean['class_5']).T - 2*log(priori['class_5'])\n",
        "  v6 = log(det(cov['class_6'])) + arr(test_row - mean['class_6'].T).T @ inv(cov['class_6']) @ arr(test_row - mean['class_6']).T - 2*log(priori['class_6'])\n",
        "  v = [v1, v2, v3, v4, v5, v6]\n",
        "  predicted = v.index(min(v)) + 1\n",
        "  return predicted\n",
        "\n",
        "\n",
        "def NAIVE(test_row, mean, cov, priori):\n",
        "  v1 = log(det(cov['class_1']*np.identity(cov['class_1'].shape[0]))) + arr(test_row - mean['class_1'].T).T @ inv(cov['class_1']*np.identity(cov['class_1'].shape[0])) @ arr(test_row - mean['class_1']).T - 2*log(priori['class_1'])\n",
        "  v2 = log(det(cov['class_2']*np.identity(cov['class_2'].shape[0]))) + arr(test_row - mean['class_2'].T).T @ inv(cov['class_2']*np.identity(cov['class_2'].shape[0])) @ arr(test_row - mean['class_2']).T - 2*log(priori['class_2'])\n",
        "  v3 = log(det(cov['class_3']*np.identity(cov['class_3'].shape[0]))) + arr(test_row - mean['class_3'].T).T @ inv(cov['class_3']*np.identity(cov['class_3'].shape[0])) @ arr(test_row - mean['class_3']).T - 2*log(priori['class_3'])\n",
        "  v4 = log(det(cov['class_4']*np.identity(cov['class_4'].shape[0]))) + arr(test_row - mean['class_4'].T).T @ inv(cov['class_4']*np.identity(cov['class_4'].shape[0])) @ arr(test_row - mean['class_4']).T - 2*log(priori['class_4'])\n",
        "  v5 = log(det(cov['class_5']*np.identity(cov['class_5'].shape[0]))) + arr(test_row - mean['class_5'].T).T @ inv(cov['class_5']*np.identity(cov['class_5'].shape[0])) @ arr(test_row - mean['class_5']).T - 2*log(priori['class_5'])\n",
        "  v6 = log(det(cov['class_6']*np.identity(cov['class_6'].shape[0]))) + arr(test_row - mean['class_6'].T).T @ inv(cov['class_6']*np.identity(cov['class_6'].shape[0])) @ arr(test_row - mean['class_6']).T - 2*log(priori['class_6'])\n",
        "  v = [v1, v2, v3, v4, v5, v6]\n",
        "  predicted = v.index(min(v)) + 1\n",
        "  return predicted\n",
        "\n",
        "\n",
        "def LDA(test_row, mean, s_w):\n",
        "  v1 = arr(test_row - mean['class_1'].T).T @ inv(s_w) @ arr(test_row - mean['class_1']).T\n",
        "  v2 = arr(test_row - mean['class_2'].T).T @ inv(s_w) @ arr(test_row - mean['class_2']).T\n",
        "  v3 = arr(test_row - mean['class_3'].T).T @ inv(s_w) @ arr(test_row - mean['class_3']).T\n",
        "  v4 = arr(test_row - mean['class_4'].T).T @ inv(s_w) @ arr(test_row - mean['class_4']).T\n",
        "  v5 = arr(test_row - mean['class_5'].T).T @ inv(s_w) @ arr(test_row - mean['class_5']).T\n",
        "  v6 = arr(test_row - mean['class_6'].T).T @ inv(s_w) @ arr(test_row - mean['class_6']).T\n",
        "  v = [v1, v2, v3, v4, v5, v6]\n",
        "  predicted = v.index(min(v)) + 1\n",
        "  return predicted"
      ],
      "execution_count": null,
      "outputs": []
    },
    {
      "cell_type": "markdown",
      "metadata": {
        "id": "DUdf3BVS6zss",
        "colab_type": "text"
      },
      "source": [
        "#### **Loop principal**"
      ]
    },
    {
      "cell_type": "code",
      "metadata": {
        "id": "t9U-cKKrijVv",
        "colab_type": "code",
        "colab": {
          "base_uri": "https://localhost:8080/",
          "height": 510
        },
        "outputId": "454a4379-da65-45b5-e62a-f30b5ae72edc"
      },
      "source": [
        "derma = reset_dataset()\n",
        "n_folds = 5\n",
        "derma = split_folds(n_folds)\n",
        "\n",
        "acc_total_qda = 0\n",
        "acc_total_nb = 0\n",
        "acc_total_lda = 0\n",
        "for validation in list(range(0, n_folds)):\n",
        "  acc_qda = 0\n",
        "  acc_nb = 0\n",
        "  acc_lda = 0\n",
        "  train_x, train_y, test_x, test_y = split_normalize_dataset(validation)\n",
        "  means = get_mean_vector(train_x)\n",
        "  covs = get_matrices_cov(train_x)\n",
        "  probs_priori = get_prob_priori(train_x)\n",
        "\n",
        "  s_w = (covs['class_1'] + covs['class_2'] + covs['class_3'] + covs['class_4'] + covs['class_5'] + covs['class_6'])/6;\n",
        "\n",
        "  for i, row in test_x.iterrows():\n",
        "    real = test_y[i]\n",
        "    predicted_qda = QDA(row, means, covs, probs_priori)\n",
        "    predicted_nb = NAIVE(row, means, covs, probs_priori)\n",
        "    predicted_lda = LDA(row, means, s_w)\n",
        "    acc_qda += 1 if (real == predicted_qda) else 0\n",
        "    acc_nb += 1 if (real == predicted_nb) else 0\n",
        "    acc_lda += 1 if (real == predicted_lda) else 0\n",
        "\n",
        "  print(f'fold-{validation}:')\n",
        "  print(f' QDA: {acc_qda}/{test_y.shape[0]}')\n",
        "  print(f' NB: {acc_nb}/{test_y.shape[0]}')\n",
        "  print(f' LDA: {acc_lda}/{test_y.shape[0]}\\n')\n",
        "  acc_total_qda += round(acc_qda/test_y.shape[0] * 100, 2)\n",
        "  acc_total_nb += round(acc_nb/test_y.shape[0] * 100, 2)\n",
        "  acc_total_lda += round(acc_lda/test_y.shape[0] * 100, 2)\n",
        "\n",
        "print('Accuracy Total:')\n",
        "print(f' Quadratic Discriminant: {round(acc_total_qda/n_folds, 2)}%')\n",
        "print(f' Naive-Bayes: {round(acc_total_nb/n_folds, 2)}%')\n",
        "print(f' Linear Discriminant: {round(acc_total_lda/n_folds, 2)}%')"
      ],
      "execution_count": null,
      "outputs": [
        {
          "output_type": "stream",
          "text": [
            "fold-0:\n",
            " QDA: 72/73\n",
            " NB: 71/73\n",
            " LDA: 70/73\n",
            "\n",
            "fold-1:\n",
            " QDA: 67/73\n",
            " NB: 68/73\n",
            " LDA: 69/73\n",
            "\n",
            "fold-2:\n",
            " QDA: 72/73\n",
            " NB: 69/73\n",
            " LDA: 72/73\n",
            "\n",
            "fold-3:\n",
            " QDA: 69/73\n",
            " NB: 68/73\n",
            " LDA: 71/73\n",
            "\n",
            "fold-4:\n",
            " QDA: 71/73\n",
            " NB: 67/73\n",
            " LDA: 72/73\n",
            "\n",
            "Accuracy Total:\n",
            " Quadratic Discriminant: 96.16%\n",
            " Naive-Bayes: 93.97%\n",
            " Linear Discriminant: 96.99%\n"
          ],
          "name": "stdout"
        }
      ]
    },
    {
      "cell_type": "markdown",
      "metadata": {
        "id": "OOMeYno59Eov",
        "colab_type": "text"
      },
      "source": [
        "- Qual classificador obteve a melhor taxa de acerto (precisão, acurácia) média?\n",
        "\n",
        "Após realizar diversos testes, observa-se que:\n",
        "\n",
        "    - A taxa de acerto dos 3 classificadores oscilam entre os números: 92% e 97% \n",
        "    - Sem nenhuma disparidade relevante entre LDA e QDA\n",
        "    - Naive-Bayes sempre com menor taxa\n",
        "\n"
      ]
    },
    {
      "cell_type": "markdown",
      "metadata": {
        "id": "ZtUUBVdjA2yT",
        "colab_type": "text"
      },
      "source": [
        "- Pode-se considerar esse problema linearmente separável? Justifique.\n",
        "\n",
        "Levando em consideração a alta acurácia obtida nos resultados, podemos considerar que sim."
      ]
    },
    {
      "cell_type": "markdown",
      "metadata": {
        "id": "KE7wU8ybCJXD",
        "colab_type": "text"
      },
      "source": [
        "### **LDA (CDA) como transformação linear**"
      ]
    },
    {
      "cell_type": "code",
      "metadata": {
        "id": "0lzwvXvPCd6h",
        "colab_type": "code",
        "colab": {
          "base_uri": "https://localhost:8080/",
          "height": 34
        },
        "outputId": "f5684a21-be78-4dd0-ab7c-b5592aa06b84"
      },
      "source": [
        "'''\n",
        "testes\n",
        "\n",
        "from numpy import linalg as LA\n",
        "\n",
        "s_b1 = derma1.shape[0]*(u1_vector - u_df)*((u1_vector - u_df).T)\n",
        "s_b2 = derma2.shape[0]*(u2_vector - u_df)*((u2_vector - u_df).T)\n",
        "s_b3 = derma3.shape[0]*(u3_vector - u_df)*((u3_vector - u_df).T)\n",
        "s_b4 = derma4.shape[0]*(u4_vector - u_df)*((u4_vector - u_df).T)\n",
        "s_b5 = derma5.shape[0]*(u5_vector - u_df)*((u5_vector - u_df).T)\n",
        "s_b6 = derma6.shape[0]*(u6_vector - u_df)*((u6_vector - u_df).T)\n",
        "s_b = s_b1 + s_b2 + s_b3 + s_b4 + s_b5 + s_b6\n",
        "\n",
        "s_w_inv = np.linalg.inv(s_w)\n",
        "eig_values, eig_vectors = np.linalg.eig(s_w_inv*np.array(s_b))\n",
        "teste = (derma1 - u1_vector @ s_w_inv) @ (derma1 - u1_vector).T\n",
        "\n",
        ":(\n",
        "\n",
        "'''\n",
        "True"
      ],
      "execution_count": 13,
      "outputs": [
        {
          "output_type": "execute_result",
          "data": {
            "text/plain": [
              "True"
            ]
          },
          "metadata": {
            "tags": []
          },
          "execution_count": 13
        }
      ]
    }
  ]
}