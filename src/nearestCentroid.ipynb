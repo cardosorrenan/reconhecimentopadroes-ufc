{
  "nbformat": 4,
  "nbformat_minor": 0,
  "metadata": {
    "colab": {
      "name": "nearestCentroid.ipynb",
      "provenance": [],
      "collapsed_sections": [],
      "toc_visible": true
    },
    "kernelspec": {
      "name": "python3",
      "display_name": "Python 3"
    }
  },
  "cells": [
    {
      "cell_type": "markdown",
      "metadata": {
        "id": "tUbt_Lc1M4Ta",
        "colab_type": "text"
      },
      "source": [
        "# **Trabalho 1 - Reconhecimento de Padrões**\n",
        "### Implementação Algoritmo Nearest Centroid\n",
        "##### Renan Henrique Cardoso - 379013"
      ]
    },
    {
      "cell_type": "code",
      "metadata": {
        "id": "qGgoXc5BEWOA",
        "colab_type": "code",
        "colab": {}
      },
      "source": [
        "import numpy as np                         # Algumas operações entre arrays optei usar o array do numpy\n",
        "from scipy import io                       # Utilizado somente a função loadmat para carregar arquivo .mat \n",
        "import seaborn as sns                      # Plotagem\n",
        "import matplotlib.pyplot as plt            # Plotagem\n",
        "import pandas as pd                        # Utilizado para converter o .mat e trabalhar também com dataframes\n",
        "pd.options.mode.chained_assignment = None  "
      ],
      "execution_count": 11,
      "outputs": []
    },
    {
      "cell_type": "markdown",
      "metadata": {
        "id": "5nBG5uNeAi-R",
        "colab_type": "text"
      },
      "source": [
        "### **Upload dos arquivos .mat**"
      ]
    },
    {
      "cell_type": "code",
      "metadata": {
        "id": "LPHJziZy9KB0",
        "colab_type": "code",
        "colab": {
          "base_uri": "https://localhost:8080/",
          "height": 187
        },
        "outputId": "bab8c81a-8cba-4bef-cfd6-80cb0de00cc1"
      },
      "source": [
        "!curl -o ecg_signals.mat --remote-name -H 'Accept: application/vnd.github.v3.raw' --location https://github.com/cardosorrenan/reconhecimentopadroes-ufc/blob/master/datasets/ecg_signals.mat?raw=true\n",
        "!curl -o noise_signals.mat --remote-name -H 'Accept: application/vnd.github.v3.raw' --location https://github.com/cardosorrenan/reconhecimentopadroes-ufc/blob/master/datasets/noise_signals.mat?raw=true"
      ],
      "execution_count": 12,
      "outputs": [
        {
          "output_type": "stream",
          "text": [
            "  % Total    % Received % Xferd  Average Speed   Time    Time     Time  Current\n",
            "                                 Dload  Upload   Total   Spent    Left  Speed\n",
            "100   160  100   160    0     0    761      0 --:--:-- --:--:-- --:--:--   761\n",
            "100   171  100   171    0     0    630      0 --:--:-- --:--:-- --:--:--   630\n",
            "100  188k  100  188k    0     0   545k      0 --:--:-- --:--:-- --:--:-- 9177k\n",
            "  % Total    % Received % Xferd  Average Speed   Time    Time     Time  Current\n",
            "                                 Dload  Upload   Total   Spent    Left  Speed\n",
            "100   162  100   162    0     0    593      0 --:--:-- --:--:-- --:--:--   593\n",
            "100   173  100   173    0     0    412      0 --:--:-- --:--:-- --:--:--   412\n",
            "100  188k  100  188k    0     0   375k      0 --:--:-- --:--:-- --:--:--  375k\n"
          ],
          "name": "stdout"
        }
      ]
    },
    {
      "cell_type": "markdown",
      "metadata": {
        "id": "wojKy5Daj9Qn",
        "colab_type": "text"
      },
      "source": [
        "### **Plot exemplo de sinal ECG**"
      ]
    },
    {
      "cell_type": "code",
      "metadata": {
        "id": "TCVgZ-3nCkf-",
        "colab_type": "code",
        "colab": {
          "base_uri": "https://localhost:8080/",
          "height": 282
        },
        "outputId": "695e57a9-e656-4683-afa7-8277451f4839"
      },
      "source": [
        "ecgs = io.loadmat('ecg_signals.mat')['Classe1']  # Carrega para 'ecgs' o arquivo ecgSignals.mat\n",
        "ecgs = pd.DataFrame(ecgs)                    # Transforma do formato dicionário para dataframe\n",
        "sns.lineplot(data=ecgs[49])                  # Exibe o sinal exemplo 50"
      ],
      "execution_count": 13,
      "outputs": [
        {
          "output_type": "execute_result",
          "data": {
            "text/plain": [
              "<matplotlib.axes._subplots.AxesSubplot at 0x7fdbc456f470>"
            ]
          },
          "metadata": {
            "tags": []
          },
          "execution_count": 13
        },
        {
          "output_type": "display_data",
          "data": {
            "image/png": "[encoded data removed]",
            "text/plain": [
              "<Figure size 432x288 with 1 Axes>"
            ]
          },
          "metadata": {
            "tags": [],
            "needs_background": "light"
          }
        }
      ]
    },
    {
      "cell_type": "markdown",
      "metadata": {
        "id": "XbmTxQrVkA0f",
        "colab_type": "text"
      },
      "source": [
        "### **Plot exemplo de sinal de ruído**"
      ]
    },
    {
      "cell_type": "code",
      "metadata": {
        "id": "MLR7rgqXkEfK",
        "colab_type": "code",
        "colab": {
          "base_uri": "https://localhost:8080/",
          "height": 282
        },
        "outputId": "5a7487b2-d9b5-4720-e8e8-f89172622d48"
      },
      "source": [
        "noises = io.loadmat('noise_signals.mat')['Classe2']  \n",
        "noises = pd.DataFrame(noises)                 \n",
        "sns.lineplot(data=noises[13])                  "
      ],
      "execution_count": 14,
      "outputs": [
        {
          "output_type": "execute_result",
          "data": {
            "text/plain": [
              "<matplotlib.axes._subplots.AxesSubplot at 0x7fdbc40dcfd0>"
            ]
          },
          "metadata": {
            "tags": []
          },
          "execution_count": 14
        },
        {
          "output_type": "display_data",
          "data": {
            "image/png": "[encoded data removed]",
            "text/plain": [
              "<Figure size 432x288 with 1 Axes>"
            ]
          },
          "metadata": {
            "tags": [],
            "needs_background": "light"
          }
        }
      ]
    },
    {
      "cell_type": "markdown",
      "metadata": {
        "id": "tU8t-W9tknFG",
        "colab_type": "text"
      },
      "source": [
        "### **Características dos sinais elegidas**:\n",
        "  - **Média**\n",
        "  - **Mediana**\n",
        "  - **Variância**\n",
        "  - **Curtose** (Kurtosis): Medida de forma que caracteriza o achatamento da curva da função de distribuição de probabilidade\n",
        "  - **Assimetria** (Skewness): Medida da assimetria da distribuição de probabilidade de uma variável aleatória com valor real sobre sua média"
      ]
    },
    {
      "cell_type": "markdown",
      "metadata": {
        "id": "SPTGvYylu0DK",
        "colab_type": "text"
      },
      "source": [
        "### **Definindo vetor de características para os sinais de ECG**"
      ]
    },
    {
      "cell_type": "code",
      "metadata": {
        "id": "Rfv18hnBrbjw",
        "colab_type": "code",
        "colab": {
          "base_uri": "https://localhost:8080/",
          "height": 221
        },
        "outputId": "9e0507b3-56cf-453b-8e29-4b55233b71fb"
      },
      "source": [
        "ecg_vector = pd.DataFrame()                           # Instancia um novo DataFrame\n",
        "ecg_vector['mean'] = ecgs.mean()                      # Calcula a média de cada sinal ecg\n",
        "ecg_vector['median'] = ecgs.median()                  # Calcula a mediana de cada sinal ecg\n",
        "ecg_vector['variance'] = ecgs.var()                   # Calcula a variância de cada sinal ecg\n",
        "ecg_vector['kurtosis'] = ecgs.kurtosis()              # Calcula a curtose de cada sinal ecg\n",
        "ecg_vector['skewness'] = ecgs.skew()                  # Calcula a assimetria de cada sinal ecg\n",
        "ecg_vector['class_kind'] = np.zeros(ecg_vector.shape[0])   # Definindo a classe dos sinais ecg: 0\n",
        "print('ecg_vector', ecg_vector.shape)                 # Exibe dimensão do dataframe\n",
        "ecg_vector.head()                                     # Exibe 5 amostras de sinais ecg"
      ],
      "execution_count": 15,
      "outputs": [
        {
          "output_type": "stream",
          "text": [
            "ecg_vector (50, 6)\n"
          ],
          "name": "stdout"
        },
        {
          "output_type": "execute_result",
          "data": {
            "text/html": [
              "<div>\n",
              "<style scoped>\n",
              "    .dataframe tbody tr th:only-of-type {\n",
              "        vertical-align: middle;\n",
              "    }\n",
              "\n",
              "    .dataframe tbody tr th {\n",
              "        vertical-align: top;\n",
              "    }\n",
              "\n",
              "    .dataframe thead th {\n",
              "        text-align: right;\n",
              "    }\n",
              "</style>\n",
              "<table border=\"1\" class=\"dataframe\">\n",
              "  <thead>\n",
              "    <tr style=\"text-align: right;\">\n",
              "      <th></th>\n",
              "      <th>mean</th>\n",
              "      <th>median</th>\n",
              "      <th>variance</th>\n",
              "      <th>kurtosis</th>\n",
              "      <th>skewness</th>\n",
              "      <th>class_kind</th>\n",
              "    </tr>\n",
              "  </thead>\n",
              "  <tbody>\n",
              "    <tr>\n",
              "      <th>0</th>\n",
              "      <td>0.054555</td>\n",
              "      <td>0.029564</td>\n",
              "      <td>0.044934</td>\n",
              "      <td>7.342880</td>\n",
              "      <td>0.712121</td>\n",
              "      <td>0.0</td>\n",
              "    </tr>\n",
              "    <tr>\n",
              "      <th>1</th>\n",
              "      <td>0.219775</td>\n",
              "      <td>0.121604</td>\n",
              "      <td>0.772401</td>\n",
              "      <td>7.525372</td>\n",
              "      <td>0.524423</td>\n",
              "      <td>0.0</td>\n",
              "    </tr>\n",
              "    <tr>\n",
              "      <th>2</th>\n",
              "      <td>0.006182</td>\n",
              "      <td>0.003271</td>\n",
              "      <td>0.000600</td>\n",
              "      <td>7.949215</td>\n",
              "      <td>0.598263</td>\n",
              "      <td>0.0</td>\n",
              "    </tr>\n",
              "    <tr>\n",
              "      <th>3</th>\n",
              "      <td>0.175649</td>\n",
              "      <td>0.092538</td>\n",
              "      <td>0.429686</td>\n",
              "      <td>7.802710</td>\n",
              "      <td>0.710876</td>\n",
              "      <td>0.0</td>\n",
              "    </tr>\n",
              "    <tr>\n",
              "      <th>4</th>\n",
              "      <td>0.249563</td>\n",
              "      <td>0.147590</td>\n",
              "      <td>0.927059</td>\n",
              "      <td>7.554545</td>\n",
              "      <td>0.695768</td>\n",
              "      <td>0.0</td>\n",
              "    </tr>\n",
              "  </tbody>\n",
              "</table>\n",
              "</div>"
            ],
            "text/plain": [
              "       mean    median  variance  kurtosis  skewness  class_kind\n",
              "0  0.054555  0.029564  0.044934  7.342880  0.712121         0.0\n",
              "1  0.219775  0.121604  0.772401  7.525372  0.524423         0.0\n",
              "2  0.006182  0.003271  0.000600  7.949215  0.598263         0.0\n",
              "3  0.175649  0.092538  0.429686  7.802710  0.710876         0.0\n",
              "4  0.249563  0.147590  0.927059  7.554545  0.695768         0.0"
            ]
          },
          "metadata": {
            "tags": []
          },
          "execution_count": 15
        }
      ]
    },
    {
      "cell_type": "markdown",
      "metadata": {
        "id": "m7xMYoSQu1_5",
        "colab_type": "text"
      },
      "source": [
        "### **Definindo vetor de características para os sinais de ruído**"
      ]
    },
    {
      "cell_type": "code",
      "metadata": {
        "id": "p_C-1lt9mYyz",
        "colab_type": "code",
        "colab": {
          "base_uri": "https://localhost:8080/",
          "height": 221
        },
        "outputId": "7ee128f0-82e5-4329-d597-99bbb8bfbdcf"
      },
      "source": [
        "noise_vector = pd.DataFrame()\n",
        "noise_vector['mean'] = noises.mean()\n",
        "noise_vector['median'] = noises.median()\n",
        "noise_vector['variance'] = noises.var()\n",
        "noise_vector['kurtosis'] = noises.kurtosis()\n",
        "noise_vector['skewness'] = noises.skew()\n",
        "noise_vector['class_kind'] = np.ones(noise_vector.shape[0])\n",
        "print('noise_vector', noise_vector.shape)\n",
        "noise_vector.head()"
      ],
      "execution_count": 16,
      "outputs": [
        {
          "output_type": "stream",
          "text": [
            "noise_vector (50, 6)\n"
          ],
          "name": "stdout"
        },
        {
          "output_type": "execute_result",
          "data": {
            "text/html": [
              "<div>\n",
              "<style scoped>\n",
              "    .dataframe tbody tr th:only-of-type {\n",
              "        vertical-align: middle;\n",
              "    }\n",
              "\n",
              "    .dataframe tbody tr th {\n",
              "        vertical-align: top;\n",
              "    }\n",
              "\n",
              "    .dataframe thead th {\n",
              "        text-align: right;\n",
              "    }\n",
              "</style>\n",
              "<table border=\"1\" class=\"dataframe\">\n",
              "  <thead>\n",
              "    <tr style=\"text-align: right;\">\n",
              "      <th></th>\n",
              "      <th>mean</th>\n",
              "      <th>median</th>\n",
              "      <th>variance</th>\n",
              "      <th>kurtosis</th>\n",
              "      <th>skewness</th>\n",
              "      <th>class_kind</th>\n",
              "    </tr>\n",
              "  </thead>\n",
              "  <tbody>\n",
              "    <tr>\n",
              "      <th>0</th>\n",
              "      <td>0.002110</td>\n",
              "      <td>0.003533</td>\n",
              "      <td>0.000173</td>\n",
              "      <td>-1.013604</td>\n",
              "      <td>-0.308855</td>\n",
              "      <td>1.0</td>\n",
              "    </tr>\n",
              "    <tr>\n",
              "      <th>1</th>\n",
              "      <td>0.087184</td>\n",
              "      <td>0.171650</td>\n",
              "      <td>0.300552</td>\n",
              "      <td>-0.987618</td>\n",
              "      <td>-0.332647</td>\n",
              "      <td>1.0</td>\n",
              "    </tr>\n",
              "    <tr>\n",
              "      <th>2</th>\n",
              "      <td>0.154969</td>\n",
              "      <td>0.307802</td>\n",
              "      <td>1.159563</td>\n",
              "      <td>-0.964448</td>\n",
              "      <td>-0.344421</td>\n",
              "      <td>1.0</td>\n",
              "    </tr>\n",
              "    <tr>\n",
              "      <th>3</th>\n",
              "      <td>0.043552</td>\n",
              "      <td>0.089607</td>\n",
              "      <td>0.093389</td>\n",
              "      <td>-0.975847</td>\n",
              "      <td>-0.357878</td>\n",
              "      <td>1.0</td>\n",
              "    </tr>\n",
              "    <tr>\n",
              "      <th>4</th>\n",
              "      <td>0.026380</td>\n",
              "      <td>0.055927</td>\n",
              "      <td>0.027955</td>\n",
              "      <td>-0.976322</td>\n",
              "      <td>-0.330218</td>\n",
              "      <td>1.0</td>\n",
              "    </tr>\n",
              "  </tbody>\n",
              "</table>\n",
              "</div>"
            ],
            "text/plain": [
              "       mean    median  variance  kurtosis  skewness  class_kind\n",
              "0  0.002110  0.003533  0.000173 -1.013604 -0.308855         1.0\n",
              "1  0.087184  0.171650  0.300552 -0.987618 -0.332647         1.0\n",
              "2  0.154969  0.307802  1.159563 -0.964448 -0.344421         1.0\n",
              "3  0.043552  0.089607  0.093389 -0.975847 -0.357878         1.0\n",
              "4  0.026380  0.055927  0.027955 -0.976322 -0.330218         1.0"
            ]
          },
          "metadata": {
            "tags": []
          },
          "execution_count": 16
        }
      ]
    },
    {
      "cell_type": "markdown",
      "metadata": {
        "id": "70-Oa_SAMucT",
        "colab_type": "text"
      },
      "source": [
        "### **Definindo dataset**"
      ]
    },
    {
      "cell_type": "code",
      "metadata": {
        "id": "WE3IGHCl-Yqe",
        "colab_type": "code",
        "colab": {
          "base_uri": "https://localhost:8080/",
          "height": 221
        },
        "outputId": "64ad4b05-8b81-4f84-aac6-4e3016d2e0b3"
      },
      "source": [
        "dataset = ecg_vector.append(noise_vector) # Concatena os dois vetores das classes\n",
        "dataset = dataset.sample(frac=1)          # Embaralha as linhas\n",
        "dataset = dataset.reset_index(drop=True)  # Reset dos índices criados nas células anteriores\n",
        "print('dataset', dataset.shape)\n",
        "dataset.head(5)                           # Exibe as 5 primeiras amostras do nosso dataset"
      ],
      "execution_count": 17,
      "outputs": [
        {
          "output_type": "stream",
          "text": [
            "dataset (100, 6)\n"
          ],
          "name": "stdout"
        },
        {
          "output_type": "execute_result",
          "data": {
            "text/html": [
              "<div>\n",
              "<style scoped>\n",
              "    .dataframe tbody tr th:only-of-type {\n",
              "        vertical-align: middle;\n",
              "    }\n",
              "\n",
              "    .dataframe tbody tr th {\n",
              "        vertical-align: top;\n",
              "    }\n",
              "\n",
              "    .dataframe thead th {\n",
              "        text-align: right;\n",
              "    }\n",
              "</style>\n",
              "<table border=\"1\" class=\"dataframe\">\n",
              "  <thead>\n",
              "    <tr style=\"text-align: right;\">\n",
              "      <th></th>\n",
              "      <th>mean</th>\n",
              "      <th>median</th>\n",
              "      <th>variance</th>\n",
              "      <th>kurtosis</th>\n",
              "      <th>skewness</th>\n",
              "      <th>class_kind</th>\n",
              "    </tr>\n",
              "  </thead>\n",
              "  <tbody>\n",
              "    <tr>\n",
              "      <th>0</th>\n",
              "      <td>-0.245991</td>\n",
              "      <td>-0.273452</td>\n",
              "      <td>0.084851</td>\n",
              "      <td>-0.417380</td>\n",
              "      <td>-0.107376</td>\n",
              "      <td>1.0</td>\n",
              "    </tr>\n",
              "    <tr>\n",
              "      <th>1</th>\n",
              "      <td>0.195309</td>\n",
              "      <td>0.102002</td>\n",
              "      <td>0.527153</td>\n",
              "      <td>7.197189</td>\n",
              "      <td>0.571494</td>\n",
              "      <td>0.0</td>\n",
              "    </tr>\n",
              "    <tr>\n",
              "      <th>2</th>\n",
              "      <td>-0.803239</td>\n",
              "      <td>-0.907022</td>\n",
              "      <td>0.932540</td>\n",
              "      <td>-0.448652</td>\n",
              "      <td>-0.129143</td>\n",
              "      <td>1.0</td>\n",
              "    </tr>\n",
              "    <tr>\n",
              "      <th>3</th>\n",
              "      <td>0.115253</td>\n",
              "      <td>0.056159</td>\n",
              "      <td>0.212030</td>\n",
              "      <td>7.444212</td>\n",
              "      <td>0.735188</td>\n",
              "      <td>0.0</td>\n",
              "    </tr>\n",
              "    <tr>\n",
              "      <th>4</th>\n",
              "      <td>-0.120439</td>\n",
              "      <td>-0.132988</td>\n",
              "      <td>0.019767</td>\n",
              "      <td>-0.423563</td>\n",
              "      <td>-0.143834</td>\n",
              "      <td>1.0</td>\n",
              "    </tr>\n",
              "  </tbody>\n",
              "</table>\n",
              "</div>"
            ],
            "text/plain": [
              "       mean    median  variance  kurtosis  skewness  class_kind\n",
              "0 -0.245991 -0.273452  0.084851 -0.417380 -0.107376         1.0\n",
              "1  0.195309  0.102002  0.527153  7.197189  0.571494         0.0\n",
              "2 -0.803239 -0.907022  0.932540 -0.448652 -0.129143         1.0\n",
              "3  0.115253  0.056159  0.212030  7.444212  0.735188         0.0\n",
              "4 -0.120439 -0.132988  0.019767 -0.423563 -0.143834         1.0"
            ]
          },
          "metadata": {
            "tags": []
          },
          "execution_count": 17
        }
      ]
    },
    {
      "cell_type": "markdown",
      "metadata": {
        "id": "wxTxG2AbX4Nm",
        "colab_type": "text"
      },
      "source": [
        "# **Algoritmo Nearest Centroid**"
      ]
    },
    {
      "cell_type": "markdown",
      "metadata": {
        "id": "Lh_vJF81Z9t0",
        "colab_type": "text"
      },
      "source": [
        "### **Variáveis de configuração do algoritmo**"
      ]
    },
    {
      "cell_type": "code",
      "metadata": {
        "id": "H8wMWRMMZ9Mh",
        "colab_type": "code",
        "colab": {}
      },
      "source": [
        "n_neighbours = 5   # Quantidade de vizinhos mais próximos que o algoritmo levará em consideração\n",
        "n_fold = 10        # Quantidade de partes que o dataset será dividido (cross-validation)"
      ],
      "execution_count": 18,
      "outputs": []
    },
    {
      "cell_type": "markdown",
      "metadata": {
        "id": "Hr12Rtm6Z-Hf",
        "colab_type": "text"
      },
      "source": [
        "### **Rotulação dos sinais (delimitação dos folds)**"
      ]
    },
    {
      "cell_type": "code",
      "metadata": {
        "id": "NmInD9ynZ9f3",
        "colab_type": "code",
        "colab": {}
      },
      "source": [
        "dataset['fold'] = pd.DataFrame(data=[-1]*dataset.shape[0])  # Todas as linhas da coluna 'fold' recebe -1, pois ainda não pertencem a nenhum fold\n",
        "for fold in list(range(0, dataset.shape[0], n_fold)):       # Como K=10, cada linha pertencerá a um fold [0, 1, ..., 9] \n",
        "  dataset.loc[fold:fold+n_fold, 'fold'] = fold/n_fold       # 0-10 será 0-Fold / 10-20 será 1-Fold / ... / 90-100 será 9-Fold"
      ],
      "execution_count": 19,
      "outputs": []
    },
    {
      "cell_type": "markdown",
      "metadata": {
        "id": "iBcEUqLuamio",
        "colab_type": "text"
      },
      "source": [
        "### **Funções construídas**"
      ]
    },
    {
      "cell_type": "code",
      "metadata": {
        "id": "d2uKRyn-arXO",
        "colab_type": "code",
        "colab": {}
      },
      "source": [
        "#  Função que calcula a distância euclidiana entre dois pontos\n",
        "def getEuclidianDistance(point_a, point_b):\n",
        "  d2_mean = pow(point_a['mean'] - point_b['mean'], 2)\n",
        "  d2_median = pow(point_a['median'] - point_b['median'], 2)\n",
        "  d2_variance = pow(point_a['variance'] - point_b['variance'], 2)\n",
        "  d2_kurtosis = pow(point_a['kurtosis'] - point_b['kurtosis'], 2)\n",
        "  d2_skewness = pow(point_a['skewness'] - point_b['skewness'], 2)\n",
        "  sum = d2_mean + d2_median + d2_variance + d2_kurtosis + d2_skewness\n",
        "  return round(pow(sum,1/2), 6)\n",
        "\n",
        "\n",
        "#  Obtém as coordenadas de cada centróide\n",
        "def getCentroids(training_data):\n",
        "  # Centroid 0\n",
        "  signals_class0 = training_data.query('class_kind == 0')\n",
        "  signals_class0 = signals_class0.drop(['class_kind', 'fold'], axis=1)\n",
        "  n_signals0 = signals_class0.shape[0]\n",
        "  centroid_0 = signals_class0.sum()/n_signals0\n",
        "  centroid_0 = centroid_0.to_frame(name='centroid_0').T\n",
        "  # Centroid 1\n",
        "  signals_class1 = training_data.query('class_kind == 1')\n",
        "  signals_class1 = signals_class1.drop(['class_kind', 'fold'], axis=1)\n",
        "  n_signals1 = signals_class1.shape[0]\n",
        "  centroid_1 = signals_class1.sum()/n_signals1\n",
        "  centroid_1 = centroid_1.to_frame(name='centroid_1').T\n",
        "  return centroid_0.append(centroid_1)\n",
        "\n",
        "\n",
        "#  Retorna as distâncias entre os pontos de teste e os centróides\n",
        "def getDistanceFromCentroids(testing_data, centroids):\n",
        "  testing_data = testing_data.drop(['class_kind', 'fold'], axis=1)\n",
        "  distances_df = pd.DataFrame()\n",
        "  for index1, point_test in testing_data.iterrows():\n",
        "    distances_column = pd.DataFrame()\n",
        "    for index2, point_centroid in centroids.iterrows():\n",
        "      distance = getEuclidianDistance(point_test, point_centroid)\n",
        "      distance_row = pd.DataFrame({ f'{index1}': distance}, [f'{index2}'])\n",
        "      distances_column = distances_column.append(distance_row)\n",
        "    distances_df = pd.concat([distances_df, distances_column], axis=1)\n",
        "  return distances_df\n",
        "\n",
        "\n",
        "#  Retorna o centróide mais perto de cada ponto de teste\n",
        "def getPredictedClass(row):\n",
        "  near_centroid = row.idxmin()\n",
        "  return 0 if near_centroid == 'centroid_0' else 1\n",
        "\n",
        "\n",
        "#  Compara dois arrays e retorna a porcentagem de acertos\n",
        "def compare(x, y):\n",
        "  truth_array = np.equal(np.array(x), np.array(y))\n",
        "  return np.sum(truth_array)/len(truth_array) * 100"
      ],
      "execution_count": 20,
      "outputs": []
    },
    {
      "cell_type": "markdown",
      "metadata": {
        "id": "nbqobD-0atxH",
        "colab_type": "text"
      },
      "source": [
        "### **Loop principal**"
      ]
    },
    {
      "cell_type": "code",
      "metadata": {
        "id": "jgS7XKdbUDoH",
        "colab_type": "code",
        "colab": {
          "base_uri": "https://localhost:8080/",
          "height": 255
        },
        "outputId": "c3e46089-78b4-48f2-805d-6e32da04745c"
      },
      "source": [
        "%%time\n",
        "acc_total = 0\n",
        "\n",
        "for validation in list(range(0, n_fold)):\n",
        "  training_data = dataset.query(f'fold != {validation}')           # Total de 90 amostras em cada rodada do cross-validation\n",
        "  testing_data = dataset.query(f'fold == {validation}')            # Total de 10 amostras em cada rodada do cross-validation\n",
        "  centroids = getCentroids(training_data)                          # Obtém os centróides (Marcado com X Azul no plot)                 \n",
        "  distances_df = getDistanceFromCentroids(testing_data, centroids) # Calcula as distâncias\n",
        "  predict_classes = distances_df.apply(getPredictedClass)          # Obtém vetor de classes julgando pelo centróide mais perto\n",
        "  predict_classes = predict_classes.rename('class_kind')           \n",
        "  accuracy = compare(predict_classes, testing_data['class_kind'])  # Compara com as classes que realmente elas pertencem e retorna a acurácia\n",
        "  acc_total += accuracy\n",
        "  print(f'{validation}-Fold: Accuracy {accuracy}%')\n",
        "\n",
        "print(f'\\nAccuracy Total: {acc_total/n_fold} %')"
      ],
      "execution_count": 21,
      "outputs": [
        {
          "output_type": "stream",
          "text": [
            "0-Fold: Accuracy 100.0%\n",
            "1-Fold: Accuracy 100.0%\n",
            "2-Fold: Accuracy 100.0%\n",
            "3-Fold: Accuracy 100.0%\n",
            "4-Fold: Accuracy 100.0%\n",
            "5-Fold: Accuracy 100.0%\n",
            "6-Fold: Accuracy 100.0%\n",
            "7-Fold: Accuracy 100.0%\n",
            "8-Fold: Accuracy 100.0%\n",
            "9-Fold: Accuracy 100.0%\n",
            "\n",
            "Accuracy Total: 100.0 %\n",
            "CPU times: user 644 ms, sys: 30.5 ms, total: 674 ms\n",
            "Wall time: 659 ms\n"
          ],
          "name": "stdout"
        }
      ]
    },
    {
      "cell_type": "markdown",
      "metadata": {
        "id": "Y5uVcLzyTTNn",
        "colab_type": "text"
      },
      "source": [
        "# **Alguns insights do algoritmo** (resultados da última validação)"
      ]
    },
    {
      "cell_type": "code",
      "metadata": {
        "id": "QtQ0gE5KYfu8",
        "colab_type": "code",
        "colab": {
          "base_uri": "https://localhost:8080/",
          "height": 204
        },
        "outputId": "147ada32-648e-4183-9e9e-6357f92f24cc"
      },
      "source": [
        "dataset.head()"
      ],
      "execution_count": 22,
      "outputs": [
        {
          "output_type": "execute_result",
          "data": {
            "text/html": [
              "<div>\n",
              "<style scoped>\n",
              "    .dataframe tbody tr th:only-of-type {\n",
              "        vertical-align: middle;\n",
              "    }\n",
              "\n",
              "    .dataframe tbody tr th {\n",
              "        vertical-align: top;\n",
              "    }\n",
              "\n",
              "    .dataframe thead th {\n",
              "        text-align: right;\n",
              "    }\n",
              "</style>\n",
              "<table border=\"1\" class=\"dataframe\">\n",
              "  <thead>\n",
              "    <tr style=\"text-align: right;\">\n",
              "      <th></th>\n",
              "      <th>mean</th>\n",
              "      <th>median</th>\n",
              "      <th>variance</th>\n",
              "      <th>kurtosis</th>\n",
              "      <th>skewness</th>\n",
              "      <th>class_kind</th>\n",
              "      <th>fold</th>\n",
              "    </tr>\n",
              "  </thead>\n",
              "  <tbody>\n",
              "    <tr>\n",
              "      <th>0</th>\n",
              "      <td>-0.245991</td>\n",
              "      <td>-0.273452</td>\n",
              "      <td>0.084851</td>\n",
              "      <td>-0.417380</td>\n",
              "      <td>-0.107376</td>\n",
              "      <td>1.0</td>\n",
              "      <td>0.0</td>\n",
              "    </tr>\n",
              "    <tr>\n",
              "      <th>1</th>\n",
              "      <td>0.195309</td>\n",
              "      <td>0.102002</td>\n",
              "      <td>0.527153</td>\n",
              "      <td>7.197189</td>\n",
              "      <td>0.571494</td>\n",
              "      <td>0.0</td>\n",
              "      <td>0.0</td>\n",
              "    </tr>\n",
              "    <tr>\n",
              "      <th>2</th>\n",
              "      <td>-0.803239</td>\n",
              "      <td>-0.907022</td>\n",
              "      <td>0.932540</td>\n",
              "      <td>-0.448652</td>\n",
              "      <td>-0.129143</td>\n",
              "      <td>1.0</td>\n",
              "      <td>0.0</td>\n",
              "    </tr>\n",
              "    <tr>\n",
              "      <th>3</th>\n",
              "      <td>0.115253</td>\n",
              "      <td>0.056159</td>\n",
              "      <td>0.212030</td>\n",
              "      <td>7.444212</td>\n",
              "      <td>0.735188</td>\n",
              "      <td>0.0</td>\n",
              "      <td>0.0</td>\n",
              "    </tr>\n",
              "    <tr>\n",
              "      <th>4</th>\n",
              "      <td>-0.120439</td>\n",
              "      <td>-0.132988</td>\n",
              "      <td>0.019767</td>\n",
              "      <td>-0.423563</td>\n",
              "      <td>-0.143834</td>\n",
              "      <td>1.0</td>\n",
              "      <td>0.0</td>\n",
              "    </tr>\n",
              "  </tbody>\n",
              "</table>\n",
              "</div>"
            ],
            "text/plain": [
              "       mean    median  variance  kurtosis  skewness  class_kind  fold\n",
              "0 -0.245991 -0.273452  0.084851 -0.417380 -0.107376         1.0   0.0\n",
              "1  0.195309  0.102002  0.527153  7.197189  0.571494         0.0   0.0\n",
              "2 -0.803239 -0.907022  0.932540 -0.448652 -0.129143         1.0   0.0\n",
              "3  0.115253  0.056159  0.212030  7.444212  0.735188         0.0   0.0\n",
              "4 -0.120439 -0.132988  0.019767 -0.423563 -0.143834         1.0   0.0"
            ]
          },
          "metadata": {
            "tags": []
          },
          "execution_count": 22
        }
      ]
    },
    {
      "cell_type": "code",
      "metadata": {
        "id": "M-8LVjoAmMUE",
        "colab_type": "code",
        "colab": {
          "base_uri": "https://localhost:8080/",
          "height": 111
        },
        "outputId": "9cb13c2b-b9b2-4bbd-efb9-00f25508ef62"
      },
      "source": [
        "centroids.head()"
      ],
      "execution_count": 23,
      "outputs": [
        {
          "output_type": "execute_result",
          "data": {
            "text/html": [
              "<div>\n",
              "<style scoped>\n",
              "    .dataframe tbody tr th:only-of-type {\n",
              "        vertical-align: middle;\n",
              "    }\n",
              "\n",
              "    .dataframe tbody tr th {\n",
              "        vertical-align: top;\n",
              "    }\n",
              "\n",
              "    .dataframe thead th {\n",
              "        text-align: right;\n",
              "    }\n",
              "</style>\n",
              "<table border=\"1\" class=\"dataframe\">\n",
              "  <thead>\n",
              "    <tr style=\"text-align: right;\">\n",
              "      <th></th>\n",
              "      <th>mean</th>\n",
              "      <th>median</th>\n",
              "      <th>variance</th>\n",
              "      <th>kurtosis</th>\n",
              "      <th>skewness</th>\n",
              "    </tr>\n",
              "  </thead>\n",
              "  <tbody>\n",
              "    <tr>\n",
              "      <th>centroid_0</th>\n",
              "      <td>0.160279</td>\n",
              "      <td>0.075173</td>\n",
              "      <td>0.409165</td>\n",
              "      <td>6.232915</td>\n",
              "      <td>0.746452</td>\n",
              "    </tr>\n",
              "    <tr>\n",
              "      <th>centroid_1</th>\n",
              "      <td>-0.188185</td>\n",
              "      <td>-0.135329</td>\n",
              "      <td>1.136592</td>\n",
              "      <td>-0.680995</td>\n",
              "      <td>-0.210340</td>\n",
              "    </tr>\n",
              "  </tbody>\n",
              "</table>\n",
              "</div>"
            ],
            "text/plain": [
              "                mean    median  variance  kurtosis  skewness\n",
              "centroid_0  0.160279  0.075173  0.409165  6.232915  0.746452\n",
              "centroid_1 -0.188185 -0.135329  1.136592 -0.680995 -0.210340"
            ]
          },
          "metadata": {
            "tags": []
          },
          "execution_count": 23
        }
      ]
    },
    {
      "cell_type": "code",
      "metadata": {
        "id": "4cfiG62zlx8j",
        "colab_type": "code",
        "colab": {
          "base_uri": "https://localhost:8080/",
          "height": 111
        },
        "outputId": "00ce7126-951d-440e-c7ee-6a2eda0e3e39"
      },
      "source": [
        "distances_df.head()"
      ],
      "execution_count": 24,
      "outputs": [
        {
          "output_type": "execute_result",
          "data": {
            "text/html": [
              "<div>\n",
              "<style scoped>\n",
              "    .dataframe tbody tr th:only-of-type {\n",
              "        vertical-align: middle;\n",
              "    }\n",
              "\n",
              "    .dataframe tbody tr th {\n",
              "        vertical-align: top;\n",
              "    }\n",
              "\n",
              "    .dataframe thead th {\n",
              "        text-align: right;\n",
              "    }\n",
              "</style>\n",
              "<table border=\"1\" class=\"dataframe\">\n",
              "  <thead>\n",
              "    <tr style=\"text-align: right;\">\n",
              "      <th></th>\n",
              "      <th>90</th>\n",
              "      <th>91</th>\n",
              "      <th>92</th>\n",
              "      <th>93</th>\n",
              "      <th>94</th>\n",
              "      <th>95</th>\n",
              "      <th>96</th>\n",
              "      <th>97</th>\n",
              "      <th>98</th>\n",
              "      <th>99</th>\n",
              "    </tr>\n",
              "  </thead>\n",
              "  <tbody>\n",
              "    <tr>\n",
              "      <th>centroid_0</th>\n",
              "      <td>0.531534</td>\n",
              "      <td>0.509689</td>\n",
              "      <td>2.234263</td>\n",
              "      <td>1.311980</td>\n",
              "      <td>7.516057</td>\n",
              "      <td>0.717633</td>\n",
              "      <td>6.868306</td>\n",
              "      <td>2.087194</td>\n",
              "      <td>1.570504</td>\n",
              "      <td>0.985841</td>\n",
              "    </tr>\n",
              "    <tr>\n",
              "      <th>centroid_1</th>\n",
              "      <td>7.551091</td>\n",
              "      <td>7.316532</td>\n",
              "      <td>4.910922</td>\n",
              "      <td>8.286408</td>\n",
              "      <td>0.959832</td>\n",
              "      <td>6.340182</td>\n",
              "      <td>0.816329</td>\n",
              "      <td>5.062024</td>\n",
              "      <td>8.573558</td>\n",
              "      <td>7.971565</td>\n",
              "    </tr>\n",
              "  </tbody>\n",
              "</table>\n",
              "</div>"
            ],
            "text/plain": [
              "                  90        91        92  ...        97        98        99\n",
              "centroid_0  0.531534  0.509689  2.234263  ...  2.087194  1.570504  0.985841\n",
              "centroid_1  7.551091  7.316532  4.910922  ...  5.062024  8.573558  7.971565\n",
              "\n",
              "[2 rows x 10 columns]"
            ]
          },
          "metadata": {
            "tags": []
          },
          "execution_count": 24
        }
      ]
    },
    {
      "cell_type": "code",
      "metadata": {
        "id": "ZW1spVGRlyyT",
        "colab_type": "code",
        "colab": {
          "base_uri": "https://localhost:8080/",
          "height": 204
        },
        "outputId": "1720e4f2-efb1-4776-de71-008398750869"
      },
      "source": [
        "predict_classes"
      ],
      "execution_count": 25,
      "outputs": [
        {
          "output_type": "execute_result",
          "data": {
            "text/plain": [
              "90    0\n",
              "91    0\n",
              "92    0\n",
              "93    0\n",
              "94    1\n",
              "95    0\n",
              "96    1\n",
              "97    0\n",
              "98    0\n",
              "99    0\n",
              "Name: class_kind, dtype: int64"
            ]
          },
          "metadata": {
            "tags": []
          },
          "execution_count": 25
        }
      ]
    },
    {
      "cell_type": "markdown",
      "metadata": {
        "id": "LtOlCwTZ2um_",
        "colab_type": "text"
      },
      "source": [
        "### **Substituindo as classes do dataset original pelas preditas para plotagem do gráfico**"
      ]
    },
    {
      "cell_type": "code",
      "metadata": {
        "id": "q0C4tLuGl7uE",
        "colab_type": "code",
        "colab": {}
      },
      "source": [
        "testing_data = testing_data.drop(['class_kind'], axis=1)\n",
        "testing_data['class_kind'] = predict_classes.values"
      ],
      "execution_count": 26,
      "outputs": []
    },
    {
      "cell_type": "code",
      "metadata": {
        "id": "SsbwU4zMl_2h",
        "colab_type": "code",
        "colab": {
          "base_uri": "https://localhost:8080/",
          "height": 298
        },
        "outputId": "bf5a7558-abf9-4004-b914-a8f781d0fd4c"
      },
      "source": [
        "sns.scatterplot(x=training_data['skewness'], y=training_data['kurtosis'], color='blue', alpha=0.5)\n",
        "ax = sns.scatterplot('skewness', 'kurtosis', data=testing_data, color='red')\n",
        "\n",
        "plt.xlabel('skewness')\n",
        "plt.ylabel('kurtosis')\n",
        "\n",
        "def label_point(x, y, val, ax):\n",
        "  a = pd.concat({'x': x, 'y': y, 'val': val}, axis=1)\n",
        "  for i, point in a.iterrows():\n",
        "    ax.text(point['x']-0.02, point['y']+0.3, str(int(point['val'])), fontSize=11, fontWeight='extra bold')\n",
        "\n",
        "label_point(testing_data['skewness'], testing_data['kurtosis'], testing_data['class_kind'], plt.gca())\n",
        "sns.scatterplot(x=centroids['skewness'], y=centroids['kurtosis'], s=250, color='blue', marker='x', linewidth=5)"
      ],
      "execution_count": 27,
      "outputs": [
        {
          "output_type": "execute_result",
          "data": {
            "text/plain": [
              "<matplotlib.axes._subplots.AxesSubplot at 0x7fdbc2d669e8>"
            ]
          },
          "metadata": {
            "tags": []
          },
          "execution_count": 27
        },
        {
          "output_type": "display_data",
          "data": {
            "image/png": "[encoded data removed]",
            "text/plain": [
              "<Figure size 432x288 with 1 Axes>"
            ]
          },
          "metadata": {
            "tags": [],
            "needs_background": "light"
          }
        }
      ]
    }
  ]
}